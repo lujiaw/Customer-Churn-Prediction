{
 "cells": [
  {
   "cell_type": "code",
   "execution_count": 1,
   "metadata": {},
   "outputs": [],
   "source": [
    "import pandas as pd\n",
    "import numpy as np\n",
    "import matplotlib.pyplot as plt\n",
    "import seaborn as sns"
   ]
  },
  {
   "cell_type": "code",
   "execution_count": 2,
   "metadata": {},
   "outputs": [
    {
     "data": {
      "text/html": [
       "<div>\n",
       "<style scoped>\n",
       "    .dataframe tbody tr th:only-of-type {\n",
       "        vertical-align: middle;\n",
       "    }\n",
       "\n",
       "    .dataframe tbody tr th {\n",
       "        vertical-align: top;\n",
       "    }\n",
       "\n",
       "    .dataframe thead th {\n",
       "        text-align: right;\n",
       "    }\n",
       "</style>\n",
       "<table border=\"1\" class=\"dataframe\">\n",
       "  <thead>\n",
       "    <tr style=\"text-align: right;\">\n",
       "      <th></th>\n",
       "      <th>customerID</th>\n",
       "      <th>gender</th>\n",
       "      <th>SeniorCitizen</th>\n",
       "      <th>Partner</th>\n",
       "      <th>Dependents</th>\n",
       "      <th>tenure</th>\n",
       "      <th>PhoneService</th>\n",
       "      <th>MultipleLines</th>\n",
       "      <th>InternetService</th>\n",
       "      <th>OnlineSecurity</th>\n",
       "      <th>...</th>\n",
       "      <th>DeviceProtection</th>\n",
       "      <th>TechSupport</th>\n",
       "      <th>StreamingTV</th>\n",
       "      <th>StreamingMovies</th>\n",
       "      <th>Contract</th>\n",
       "      <th>PaperlessBilling</th>\n",
       "      <th>PaymentMethod</th>\n",
       "      <th>MonthlyCharges</th>\n",
       "      <th>TotalCharges</th>\n",
       "      <th>Churn</th>\n",
       "    </tr>\n",
       "  </thead>\n",
       "  <tbody>\n",
       "    <tr>\n",
       "      <td>0</td>\n",
       "      <td>7590-VHVEG</td>\n",
       "      <td>Female</td>\n",
       "      <td>0</td>\n",
       "      <td>Yes</td>\n",
       "      <td>No</td>\n",
       "      <td>1</td>\n",
       "      <td>No</td>\n",
       "      <td>No phone service</td>\n",
       "      <td>DSL</td>\n",
       "      <td>No</td>\n",
       "      <td>...</td>\n",
       "      <td>No</td>\n",
       "      <td>No</td>\n",
       "      <td>No</td>\n",
       "      <td>No</td>\n",
       "      <td>Month-to-month</td>\n",
       "      <td>Yes</td>\n",
       "      <td>Electronic check</td>\n",
       "      <td>29.85</td>\n",
       "      <td>29.85</td>\n",
       "      <td>No</td>\n",
       "    </tr>\n",
       "    <tr>\n",
       "      <td>1</td>\n",
       "      <td>5575-GNVDE</td>\n",
       "      <td>Male</td>\n",
       "      <td>0</td>\n",
       "      <td>No</td>\n",
       "      <td>No</td>\n",
       "      <td>34</td>\n",
       "      <td>Yes</td>\n",
       "      <td>No</td>\n",
       "      <td>DSL</td>\n",
       "      <td>Yes</td>\n",
       "      <td>...</td>\n",
       "      <td>Yes</td>\n",
       "      <td>No</td>\n",
       "      <td>No</td>\n",
       "      <td>No</td>\n",
       "      <td>One year</td>\n",
       "      <td>No</td>\n",
       "      <td>Mailed check</td>\n",
       "      <td>56.95</td>\n",
       "      <td>1889.5</td>\n",
       "      <td>No</td>\n",
       "    </tr>\n",
       "    <tr>\n",
       "      <td>2</td>\n",
       "      <td>3668-QPYBK</td>\n",
       "      <td>Male</td>\n",
       "      <td>0</td>\n",
       "      <td>No</td>\n",
       "      <td>No</td>\n",
       "      <td>2</td>\n",
       "      <td>Yes</td>\n",
       "      <td>No</td>\n",
       "      <td>DSL</td>\n",
       "      <td>Yes</td>\n",
       "      <td>...</td>\n",
       "      <td>No</td>\n",
       "      <td>No</td>\n",
       "      <td>No</td>\n",
       "      <td>No</td>\n",
       "      <td>Month-to-month</td>\n",
       "      <td>Yes</td>\n",
       "      <td>Mailed check</td>\n",
       "      <td>53.85</td>\n",
       "      <td>108.15</td>\n",
       "      <td>Yes</td>\n",
       "    </tr>\n",
       "    <tr>\n",
       "      <td>3</td>\n",
       "      <td>7795-CFOCW</td>\n",
       "      <td>Male</td>\n",
       "      <td>0</td>\n",
       "      <td>No</td>\n",
       "      <td>No</td>\n",
       "      <td>45</td>\n",
       "      <td>No</td>\n",
       "      <td>No phone service</td>\n",
       "      <td>DSL</td>\n",
       "      <td>Yes</td>\n",
       "      <td>...</td>\n",
       "      <td>Yes</td>\n",
       "      <td>Yes</td>\n",
       "      <td>No</td>\n",
       "      <td>No</td>\n",
       "      <td>One year</td>\n",
       "      <td>No</td>\n",
       "      <td>Bank transfer (automatic)</td>\n",
       "      <td>42.30</td>\n",
       "      <td>1840.75</td>\n",
       "      <td>No</td>\n",
       "    </tr>\n",
       "    <tr>\n",
       "      <td>4</td>\n",
       "      <td>9237-HQITU</td>\n",
       "      <td>Female</td>\n",
       "      <td>0</td>\n",
       "      <td>No</td>\n",
       "      <td>No</td>\n",
       "      <td>2</td>\n",
       "      <td>Yes</td>\n",
       "      <td>No</td>\n",
       "      <td>Fiber optic</td>\n",
       "      <td>No</td>\n",
       "      <td>...</td>\n",
       "      <td>No</td>\n",
       "      <td>No</td>\n",
       "      <td>No</td>\n",
       "      <td>No</td>\n",
       "      <td>Month-to-month</td>\n",
       "      <td>Yes</td>\n",
       "      <td>Electronic check</td>\n",
       "      <td>70.70</td>\n",
       "      <td>151.65</td>\n",
       "      <td>Yes</td>\n",
       "    </tr>\n",
       "  </tbody>\n",
       "</table>\n",
       "<p>5 rows × 21 columns</p>\n",
       "</div>"
      ],
      "text/plain": [
       "   customerID  gender  SeniorCitizen Partner Dependents  tenure PhoneService  \\\n",
       "0  7590-VHVEG  Female              0     Yes         No       1           No   \n",
       "1  5575-GNVDE    Male              0      No         No      34          Yes   \n",
       "2  3668-QPYBK    Male              0      No         No       2          Yes   \n",
       "3  7795-CFOCW    Male              0      No         No      45           No   \n",
       "4  9237-HQITU  Female              0      No         No       2          Yes   \n",
       "\n",
       "      MultipleLines InternetService OnlineSecurity  ... DeviceProtection  \\\n",
       "0  No phone service             DSL             No  ...               No   \n",
       "1                No             DSL            Yes  ...              Yes   \n",
       "2                No             DSL            Yes  ...               No   \n",
       "3  No phone service             DSL            Yes  ...              Yes   \n",
       "4                No     Fiber optic             No  ...               No   \n",
       "\n",
       "  TechSupport StreamingTV StreamingMovies        Contract PaperlessBilling  \\\n",
       "0          No          No              No  Month-to-month              Yes   \n",
       "1          No          No              No        One year               No   \n",
       "2          No          No              No  Month-to-month              Yes   \n",
       "3         Yes          No              No        One year               No   \n",
       "4          No          No              No  Month-to-month              Yes   \n",
       "\n",
       "               PaymentMethod MonthlyCharges  TotalCharges Churn  \n",
       "0           Electronic check          29.85         29.85    No  \n",
       "1               Mailed check          56.95        1889.5    No  \n",
       "2               Mailed check          53.85        108.15   Yes  \n",
       "3  Bank transfer (automatic)          42.30       1840.75    No  \n",
       "4           Electronic check          70.70        151.65   Yes  \n",
       "\n",
       "[5 rows x 21 columns]"
      ]
     },
     "execution_count": 2,
     "metadata": {},
     "output_type": "execute_result"
    }
   ],
   "source": [
    "data = pd.read_csv('WA_Fn-UseC_-Telco-Customer-Churn.csv')\n",
    "data.head()"
   ]
  },
  {
   "cell_type": "code",
   "execution_count": 3,
   "metadata": {},
   "outputs": [
    {
     "data": {
      "text/plain": [
       "No     0.73463\n",
       "Yes    0.26537\n",
       "Name: Churn, dtype: float64"
      ]
     },
     "execution_count": 3,
     "metadata": {},
     "output_type": "execute_result"
    }
   ],
   "source": [
    "data['Churn'].value_counts()/len(data)"
   ]
  },
  {
   "cell_type": "code",
   "execution_count": 4,
   "metadata": {},
   "outputs": [
    {
     "data": {
      "text/plain": [
       "Index(['customerID', 'gender', 'SeniorCitizen', 'Partner', 'Dependents',\n",
       "       'tenure', 'PhoneService', 'MultipleLines', 'InternetService',\n",
       "       'OnlineSecurity', 'OnlineBackup', 'DeviceProtection', 'TechSupport',\n",
       "       'StreamingTV', 'StreamingMovies', 'Contract', 'PaperlessBilling',\n",
       "       'PaymentMethod', 'MonthlyCharges', 'TotalCharges', 'Churn'],\n",
       "      dtype='object')"
      ]
     },
     "execution_count": 4,
     "metadata": {},
     "output_type": "execute_result"
    }
   ],
   "source": [
    "data.columns"
   ]
  },
  {
   "cell_type": "code",
   "execution_count": 5,
   "metadata": {},
   "outputs": [
    {
     "name": "stdout",
     "output_type": "stream",
     "text": [
      "<class 'pandas.core.frame.DataFrame'>\n",
      "RangeIndex: 7043 entries, 0 to 7042\n",
      "Data columns (total 21 columns):\n",
      "customerID          7043 non-null object\n",
      "gender              7043 non-null object\n",
      "SeniorCitizen       7043 non-null int64\n",
      "Partner             7043 non-null object\n",
      "Dependents          7043 non-null object\n",
      "tenure              7043 non-null int64\n",
      "PhoneService        7043 non-null object\n",
      "MultipleLines       7043 non-null object\n",
      "InternetService     7043 non-null object\n",
      "OnlineSecurity      7043 non-null object\n",
      "OnlineBackup        7043 non-null object\n",
      "DeviceProtection    7043 non-null object\n",
      "TechSupport         7043 non-null object\n",
      "StreamingTV         7043 non-null object\n",
      "StreamingMovies     7043 non-null object\n",
      "Contract            7043 non-null object\n",
      "PaperlessBilling    7043 non-null object\n",
      "PaymentMethod       7043 non-null object\n",
      "MonthlyCharges      7043 non-null float64\n",
      "TotalCharges        7043 non-null object\n",
      "Churn               7043 non-null object\n",
      "dtypes: float64(1), int64(2), object(18)\n",
      "memory usage: 1.1+ MB\n"
     ]
    }
   ],
   "source": [
    "data.info()"
   ]
  },
  {
   "cell_type": "markdown",
   "metadata": {},
   "source": [
    "Type of TotalCharges is not float64, which means that it consists of string values."
   ]
  },
  {
   "cell_type": "code",
   "execution_count": 6,
   "metadata": {},
   "outputs": [],
   "source": [
    "def plot_perct_count(feature_name):\n",
    "    order = sorted(data[feature_name].unique())\n",
    "    ax = sns.countplot(x = feature_name, hue = 'Churn', data=data, order = order)\n",
    "\n",
    "    bars = ax.patches\n",
    "    half = int(len(bars)/2)\n",
    "    left_bars = bars[:half]\n",
    "    right_bars = bars[half:]\n",
    "\n",
    "    for left, right in zip(left_bars, right_bars):\n",
    "        height_l = left.get_height()\n",
    "        height_r = right.get_height()\n",
    "        total = height_l + height_r\n",
    "        perct_l = height_l/total\n",
    "        perct_r = height_r/total\n",
    "    \n",
    "        ax.text(left.get_x()+left.get_width()/2., height_l+20, '{0:.2%}'.format(perct_l), ha='center')\n",
    "        ax.text(right.get_x()+right.get_width()/2., height_r+20, '{0:.2%}'.format(perct_r), ha='center')"
   ]
  },
  {
   "cell_type": "markdown",
   "metadata": {},
   "source": [
    "## Gender and Age"
   ]
  },
  {
   "cell_type": "code",
   "execution_count": 7,
   "metadata": {},
   "outputs": [
    {
     "data": {
      "image/png": "[encoded data removed]",
      "text/plain": [
       "<Figure size 432x288 with 1 Axes>"
      ]
     },
     "metadata": {
      "needs_background": "light"
     },
     "output_type": "display_data"
    }
   ],
   "source": [
    "plot_perct_count('gender')\n",
    "plt.show()"
   ]
  },
  {
   "cell_type": "markdown",
   "metadata": {},
   "source": [
    "The Gender distribution is very similar between churned and non-churned groups. "
   ]
  },
  {
   "cell_type": "code",
   "execution_count": 8,
   "metadata": {},
   "outputs": [
    {
     "data": {
      "image/png": "[encoded data removed]",
      "text/plain": [
       "<Figure size 432x288 with 1 Axes>"
      ]
     },
     "metadata": {
      "needs_background": "light"
     },
     "output_type": "display_data"
    }
   ],
   "source": [
    "plot_perct_count('SeniorCitizen')\n",
    "plt.show()"
   ]
  },
  {
   "cell_type": "markdown",
   "metadata": {},
   "source": [
    "Senior citizens are more likely to churn than non senior citizens."
   ]
  },
  {
   "cell_type": "markdown",
   "metadata": {},
   "source": [
    "## Family Infomation"
   ]
  },
  {
   "cell_type": "code",
   "execution_count": 9,
   "metadata": {},
   "outputs": [
    {
     "data": {
      "image/png": "[encoded data removed]",
      "text/plain": [
       "<Figure size 432x288 with 1 Axes>"
      ]
     },
     "metadata": {
      "needs_background": "light"
     },
     "output_type": "display_data"
    }
   ],
   "source": [
    "plot_perct_count('Partner')"
   ]
  },
  {
   "cell_type": "code",
   "execution_count": 10,
   "metadata": {},
   "outputs": [
    {
     "data": {
      "image/png": "[encoded data removed]",
      "text/plain": [
       "<Figure size 432x288 with 1 Axes>"
      ]
     },
     "metadata": {
      "needs_background": "light"
     },
     "output_type": "display_data"
    }
   ],
   "source": [
    "plot_perct_count('Dependents')"
   ]
  },
  {
   "cell_type": "markdown",
   "metadata": {},
   "source": [
    "Customers who live independently (without partners or dependents) have a higher possibility to churn compared to customers who live with others."
   ]
  },
  {
   "cell_type": "markdown",
   "metadata": {},
   "source": [
    "## Tenure"
   ]
  },
  {
   "cell_type": "code",
   "execution_count": 11,
   "metadata": {},
   "outputs": [
    {
     "data": {
      "image/png": "[encoded data removed]",
      "text/plain": [
       "<Figure size 1080x360 with 2 Axes>"
      ]
     },
     "metadata": {
      "needs_background": "light"
     },
     "output_type": "display_data"
    }
   ],
   "source": [
    "f, ax = plt.subplots(1,2,figsize = (15,5))\n",
    "sns.distplot(data['tenure'], hist=True, ax=ax[0])\n",
    "ax[0].set_title('Customer Tenure Distribution')\n",
    "\n",
    "bins = np.linspace(0,80,40)\n",
    "ax[1].hist(data[data['Churn'] == 'Yes']['tenure'], bins, alpha = 0.5, \n",
    "         density = True,label = 'Churn')\n",
    "ax[1].hist(data[data['Churn'] == 'No']['tenure'], bins, alpha = 0.5, \n",
    "         density = True,label = 'Non-Churn')\n",
    "ax[1].legend(loc = 'upper right')\n",
    "ax[1].set_title('Customer Tenure Distribution (Churn vs Non-Churn)')\n",
    "\n",
    "plt.show()"
   ]
  },
  {
   "cell_type": "code",
   "execution_count": 12,
   "metadata": {},
   "outputs": [
    {
     "data": {
      "image/png": "[encoded data removed]",
      "text/plain": [
       "<Figure size 432x288 with 1 Axes>"
      ]
     },
     "metadata": {
      "needs_background": "light"
     },
     "output_type": "display_data"
    }
   ],
   "source": [
    "data.loc[:,'NewCustomer'] = np.where(data['tenure'] == 0,1,0)\n",
    "sns.countplot(x='NewCustomer',hue='Churn',data=data)\n",
    "plt.show()"
   ]
  },
  {
   "cell_type": "markdown",
   "metadata": {},
   "source": [
    "Tenure is the number of months the customer has stayed with the company. Compared to other numberic feature, Tenure has a different U-shape curve distribution. For churned customers, most of them churn in their first month. For non-churned customers, the distribution curve is more flat, and many are old customers that stayed from more than 60 months. If a customer stays with the company for more than 20 months, he/she will likely stay with the company for longer."
   ]
  },
  {
   "cell_type": "markdown",
   "metadata": {},
   "source": [
    "## Service Subscription"
   ]
  },
  {
   "cell_type": "code",
   "execution_count": 13,
   "metadata": {},
   "outputs": [
    {
     "data": {
      "image/png": "[encoded data removed]",
      "text/plain": [
       "<Figure size 432x288 with 1 Axes>"
      ]
     },
     "metadata": {
      "needs_background": "light"
     },
     "output_type": "display_data"
    }
   ],
   "source": [
    "plot_perct_count('PhoneService')"
   ]
  },
  {
   "cell_type": "code",
   "execution_count": 14,
   "metadata": {},
   "outputs": [
    {
     "data": {
      "text/plain": [
       "No                  3390\n",
       "Yes                 2971\n",
       "No phone service     682\n",
       "Name: MultipleLines, dtype: int64"
      ]
     },
     "execution_count": 14,
     "metadata": {},
     "output_type": "execute_result"
    }
   ],
   "source": [
    "data['MultipleLines'].value_counts()"
   ]
  },
  {
   "cell_type": "code",
   "execution_count": 15,
   "metadata": {},
   "outputs": [
    {
     "data": {
      "image/png": "[encoded data removed]",
      "text/plain": [
       "<Figure size 432x288 with 1 Axes>"
      ]
     },
     "metadata": {
      "needs_background": "light"
     },
     "output_type": "display_data"
    }
   ],
   "source": [
    "sns.countplot(x='MultipleLines', hue='Churn', data=data)\n",
    "plt.show()"
   ]
  },
  {
   "cell_type": "code",
   "execution_count": 16,
   "metadata": {},
   "outputs": [
    {
     "data": {
      "image/png": "[encoded data removed]",
      "text/plain": [
       "<Figure size 432x288 with 1 Axes>"
      ]
     },
     "metadata": {
      "needs_background": "light"
     },
     "output_type": "display_data"
    }
   ],
   "source": [
    "data['PhoneService'] = data['MultipleLines'].replace({'No': 'Yes'})\n",
    "data['PhoneService'] = data['PhoneService'].replace({'No phone service': 'No'})\n",
    "plot_perct_count('PhoneService')"
   ]
  },
  {
   "cell_type": "code",
   "execution_count": 17,
   "metadata": {
    "scrolled": true
   },
   "outputs": [
    {
     "data": {
      "image/png": "[encoded data removed]",
      "text/plain": [
       "<Figure size 432x288 with 1 Axes>"
      ]
     },
     "metadata": {
      "needs_background": "light"
     },
     "output_type": "display_data"
    }
   ],
   "source": [
    "sns.countplot(x='InternetService', hue='Churn', data=data)\n",
    "plt.show()"
   ]
  },
  {
   "cell_type": "code",
   "execution_count": 18,
   "metadata": {},
   "outputs": [],
   "source": [
    "cols = ['OnlineSecurity', 'OnlineBackup', 'DeviceProtection', \n",
    "        'TechSupport', 'StreamingTV', 'StreamingMovies']\n",
    "for col in cols:\n",
    "    data[col] = data[col].replace({'No internet service': 'No'})"
   ]
  },
  {
   "cell_type": "code",
   "execution_count": 19,
   "metadata": {},
   "outputs": [
    {
     "data": {
      "image/png": "[encoded data removed]",
      "text/plain": [
       "<Figure size 2160x720 with 6 Axes>"
      ]
     },
     "metadata": {
      "needs_background": "light"
     },
     "output_type": "display_data"
    }
   ],
   "source": [
    "f, axes = plt.subplots(2,3, figsize=(30,10))\n",
    "for i in range(6):\n",
    "    order = sorted(data[cols[i]].unique())\n",
    "    ax = sns.countplot(x = cols[i], hue = 'Churn', data=data, order = order, ax = axes[i//3,i%3])\n",
    "\n",
    "    bars = ax.patches\n",
    "    half = int(len(bars)/2)\n",
    "    left_bars = bars[:half]\n",
    "    right_bars = bars[half:]\n",
    "\n",
    "    for left, right in zip(left_bars, right_bars):\n",
    "        height_l = left.get_height()\n",
    "        height_r = right.get_height()\n",
    "        total = height_l + height_r\n",
    "        perct_l = height_l/total\n",
    "        perct_r = height_r/total\n",
    "    \n",
    "        ax.text(left.get_x()+left.get_width()/2., height_l+20, '{0:.2%}'.format(perct_l), ha='center')\n",
    "        ax.text(right.get_x()+right.get_width()/2., height_r+20, '{0:.2%}'.format(perct_r), ha='center')"
   ]
  },
  {
   "cell_type": "markdown",
   "metadata": {},
   "source": [
    "From above plots, we can see that Online Security and Tech Support has a high impact on the charn possibility."
   ]
  },
  {
   "cell_type": "code",
   "execution_count": 20,
   "metadata": {
    "scrolled": true
   },
   "outputs": [
    {
     "data": {
      "image/png": "[encoded data removed]",
      "text/plain": [
       "<Figure size 432x288 with 1 Axes>"
      ]
     },
     "metadata": {
      "needs_background": "light"
     },
     "output_type": "display_data"
    }
   ],
   "source": [
    "sns.countplot(x='Contract', hue='Churn', data=data)\n",
    "plt.show()"
   ]
  },
  {
   "cell_type": "markdown",
   "metadata": {},
   "source": [
    "Customers who have a long contract more than 1 year have low possibility to churn."
   ]
  },
  {
   "cell_type": "code",
   "execution_count": 21,
   "metadata": {},
   "outputs": [
    {
     "data": {
      "image/png": "[encoded data removed]",
      "text/plain": [
       "<Figure size 432x288 with 1 Axes>"
      ]
     },
     "metadata": {
      "needs_background": "light"
     },
     "output_type": "display_data"
    }
   ],
   "source": [
    "sns.countplot(x='PaperlessBilling', hue='Churn', data=data)\n",
    "plt.show()"
   ]
  },
  {
   "cell_type": "code",
   "execution_count": 22,
   "metadata": {},
   "outputs": [
    {
     "data": {
      "image/png": "[encoded data removed]",
      "text/plain": [
       "<Figure size 432x288 with 1 Axes>"
      ]
     },
     "metadata": {
      "needs_background": "light"
     },
     "output_type": "display_data"
    }
   ],
   "source": [
    "sns.countplot(x='PaymentMethod', hue='Churn', data=data)\n",
    "plt.xticks(rotation=60)\n",
    "plt.show()"
   ]
  },
  {
   "cell_type": "markdown",
   "metadata": {},
   "source": [
    "Customers who use electronic check for payments are more likely to churn compared to customers who use other payment types."
   ]
  },
  {
   "cell_type": "code",
   "execution_count": 23,
   "metadata": {},
   "outputs": [
    {
     "data": {
      "image/png": "[encoded data removed]",
      "text/plain": [
       "<Figure size 1080x360 with 2 Axes>"
      ]
     },
     "metadata": {
      "needs_background": "light"
     },
     "output_type": "display_data"
    }
   ],
   "source": [
    "f, ax = plt.subplots(1,2,figsize = (15,5))\n",
    "sns.distplot(data['MonthlyCharges'], hist=True, ax=ax[0])\n",
    "ax[0].set_title('Customer Monthly Charges Distribution')\n",
    "\n",
    "bins = np.linspace(20,120,50)\n",
    "ax[1].hist(data[data['Churn'] == 'Yes']['MonthlyCharges'], bins, alpha = 0.5, \n",
    "         density = True,label = 'Churn')\n",
    "ax[1].hist(data[data['Churn'] == 'No']['MonthlyCharges'], bins, alpha = 0.5, \n",
    "         density = True,label = 'Non-Churn')\n",
    "ax[1].legend(loc = 'upper right')\n",
    "ax[1].set_title('Customer MonthlyCharges Distribution (Churn vs Non-Churn)')\n",
    "\n",
    "plt.show()"
   ]
  },
  {
   "cell_type": "code",
   "execution_count": 24,
   "metadata": {},
   "outputs": [],
   "source": [
    "data['TotalCharges'] = data['TotalCharges'].replace({' ': 0})\n",
    "data['TotalCharges'] = data['TotalCharges'].apply(lambda x: float(x))"
   ]
  },
  {
   "cell_type": "code",
   "execution_count": 25,
   "metadata": {},
   "outputs": [
    {
     "data": {
      "image/png": "[encoded data removed]",
      "text/plain": [
       "<Figure size 1080x360 with 2 Axes>"
      ]
     },
     "metadata": {
      "needs_background": "light"
     },
     "output_type": "display_data"
    }
   ],
   "source": [
    "f, ax = plt.subplots(1,2,figsize = (15,5))\n",
    "sns.distplot(data['TotalCharges'], hist=True, ax=ax[0])\n",
    "ax[0].set_title('Customer Total Charges Distribution')\n",
    "\n",
    "bins = np.linspace(0,8000,100)\n",
    "ax[1].hist(data[data['Churn'] == 'Yes']['TotalCharges'], bins, alpha = 0.5, \n",
    "         density = True,label = 'Churn')\n",
    "ax[1].hist(data[data['Churn'] == 'No']['TotalCharges'], bins, alpha = 0.5, \n",
    "         density = True,label = 'Non-Churn')\n",
    "ax[1].legend(loc = 'upper right')\n",
    "ax[1].set_title('Customer Total Charges Distribution (Churn vs Non-Churn)')\n",
    "\n",
    "plt.show()"
   ]
  },
  {
   "cell_type": "markdown",
   "metadata": {},
   "source": [
    "The Total Charges has a long tail and the difference between two groups are not very clear. Therefore we take a log on the total charges and examine the distributions again."
   ]
  },
  {
   "cell_type": "code",
   "execution_count": 26,
   "metadata": {},
   "outputs": [
    {
     "data": {
      "image/png": "[encoded data removed]",
      "text/plain": [
       "<Figure size 1080x360 with 2 Axes>"
      ]
     },
     "metadata": {
      "needs_background": "light"
     },
     "output_type": "display_data"
    }
   ],
   "source": [
    "data['TotalCharges_Log'] = data['TotalCharges'].apply(lambda x: np.log(x+0.1))\n",
    "f, ax = plt.subplots(1,2,figsize = (15,5))\n",
    "sns.distplot(data['TotalCharges_Log'], hist=True, ax=ax[0])\n",
    "ax[0].set_title('Customer Log Total Charges Distribution')\n",
    "\n",
    "bins = np.linspace(-3,10,50)\n",
    "ax[1].hist(data[data['Churn'] == 'Yes']['TotalCharges_Log'], bins, alpha = 0.5, \n",
    "         density = True,label = 'Churn')\n",
    "ax[1].hist(data[data['Churn'] == 'No']['TotalCharges_Log'], bins, alpha = 0.5, \n",
    "         density = True,label = 'Non-Churn')\n",
    "ax[1].legend(loc = 'upper right')\n",
    "ax[1].set_title('Customer Log Total Charges Distribution (Churn vs Non-Churn)')\n",
    "\n",
    "plt.show()"
   ]
  },
  {
   "cell_type": "markdown",
   "metadata": {},
   "source": [
    "The difference is more obvious between two groups and it doesn't have the long tail anymore."
   ]
  },
  {
   "cell_type": "code",
   "execution_count": 27,
   "metadata": {},
   "outputs": [],
   "source": [
    "data['AverageCharge'] = data['TotalCharges']/data['tenure']\n",
    "data['AverageCharge'] = data['AverageCharge'].fillna(0)"
   ]
  },
  {
   "cell_type": "code",
   "execution_count": 28,
   "metadata": {},
   "outputs": [
    {
     "data": {
      "image/png": "[encoded data removed]",
      "text/plain": [
       "<Figure size 1080x360 with 2 Axes>"
      ]
     },
     "metadata": {
      "needs_background": "light"
     },
     "output_type": "display_data"
    }
   ],
   "source": [
    "f, ax = plt.subplots(1,2,figsize = (15,5))\n",
    "sns.distplot(data['AverageCharge'], hist=True, ax=ax[0])\n",
    "ax[0].set_title('Customer Average Monthly Distribution')\n",
    "\n",
    "bins = np.linspace(0,120,50)\n",
    "ax[1].hist(data[data['Churn'] == 'Yes']['AverageCharge'], bins, alpha = 0.5, \n",
    "         density = True,label = 'Churn')\n",
    "ax[1].hist(data[data['Churn'] == 'No']['AverageCharge'], bins, alpha = 0.5, \n",
    "         density = True,label = 'Non-Churn')\n",
    "ax[1].legend(loc = 'upper right')\n",
    "ax[1].set_title('Customer Average Monthly Charges Distribution (Churn vs Non-Churn)')\n",
    "\n",
    "plt.show()"
   ]
  },
  {
   "cell_type": "code",
   "execution_count": 29,
   "metadata": {},
   "outputs": [
    {
     "data": {
      "image/png": "[encoded data removed]",
      "text/plain": [
       "<Figure size 432x288 with 1 Axes>"
      ]
     },
     "metadata": {
      "needs_background": "light"
     },
     "output_type": "display_data"
    }
   ],
   "source": [
    "f,ax = plt.subplots()\n",
    "sns.distplot(data['MonthlyCharges'],hist=True, label='MonthlyCharges',ax=ax)\n",
    "sns.distplot(data['AverageCharge'], hist=True, label='AverageCharges',ax=ax)\n",
    "ax.legend(loc = 'upper right')\n",
    "plt.show()"
   ]
  },
  {
   "cell_type": "markdown",
   "metadata": {},
   "source": [
    "Since these two variables have very similar distribution, we wil only use one of them."
   ]
  },
  {
   "cell_type": "code",
   "execution_count": 30,
   "metadata": {},
   "outputs": [
    {
     "data": {
      "image/png": "[encoded data removed]",
      "text/plain": [
       "<Figure size 432x288 with 1 Axes>"
      ]
     },
     "metadata": {
      "needs_background": "light"
     },
     "output_type": "display_data"
    }
   ],
   "source": [
    "# Feature Interaction\n",
    "data.loc[:,'InternetExtraCare'] = np.where((data['OnlineBackup'] == 'Yes') |(data['DeviceProtection'] == 'Yes') |(data['TechSupport'] == 'Yes'), 'Yes','No')\n",
    "plot_perct_count('InternetExtraCare')"
   ]
  },
  {
   "cell_type": "code",
   "execution_count": 31,
   "metadata": {},
   "outputs": [
    {
     "data": {
      "image/png": "[encoded data removed]",
      "text/plain": [
       "<Figure size 432x288 with 1 Axes>"
      ]
     },
     "metadata": {
      "needs_background": "light"
     },
     "output_type": "display_data"
    }
   ],
   "source": [
    "# Contract Type and Monthly Charges\n",
    "# Monthly Charges Distributions by Contract Type\n",
    "f,ax = plt.subplots()\n",
    "sns.distplot(data[data['Contract']=='Month-to-month']['MonthlyCharges'], label='Month to Month',ax=ax)\n",
    "sns.distplot(data[data['Contract']=='One year']['MonthlyCharges'],  label='One Year',ax=ax)\n",
    "sns.distplot(data[data['Contract']=='Two year']['MonthlyCharges'], label='Two Year',ax=ax)\n",
    "ax.legend(loc = 'upper right')\n",
    "plt.show()"
   ]
  },
  {
   "cell_type": "code",
   "execution_count": 32,
   "metadata": {},
   "outputs": [
    {
     "data": {
      "image/png": "[encoded data removed]",
      "text/plain": [
       "<Figure size 432x288 with 1 Axes>"
      ]
     },
     "metadata": {
      "needs_background": "light"
     },
     "output_type": "display_data"
    }
   ],
   "source": [
    "sns.boxplot(x = 'Contract', y='MonthlyCharges', hue='InternetService', data=data)\n",
    "plt.show()"
   ]
  },
  {
   "cell_type": "markdown",
   "metadata": {},
   "source": [
    "The value of Monthly Charge is mainly based on the contract and internet service provider. Customers who have a longer period of contract type are more loyal to the company. Customers who use Fibe Optic for internet provider need to pay higher monthly fee than those who use DSL. Customers who use Fiber optic may have higher expectations for their home internet speed and supposely are more sensitive to service quality."
   ]
  },
  {
   "cell_type": "markdown",
   "metadata": {},
   "source": [
    "# Feature Engineering"
   ]
  },
  {
   "cell_type": "markdown",
   "metadata": {},
   "source": [
    "* Categorical Variable\n",
    "    * Gender \n",
    "    * **Senior Citizen**\n",
    "    * **Partner**\n",
    "    * **Dependents**\n",
    "    * **Contract**\n",
    "    * **PhoneService**\n",
    "    * **MultipleLines**\n",
    "    * **InternetService**\n",
    "    * **OnlineSecurity**\n",
    "    * OnlineBackup\n",
    "    * DeviceProtection\n",
    "    * **TechSupport**\n",
    "    * StreamingTV\n",
    "    * StreamingMovies\n",
    "    * **Paperless Billing**\n",
    "    * **PaymentMethod**\n",
    "    * New Customer\n",
    "    * InternetExtraCare\n",
    "* Numerical Variable\n",
    "    * **Tenure**\n",
    "    * **Monthly Charges**\n",
    "    * **Total Charges**\n",
    "    * **Log Total Charges**\n",
    "    * **Average Charges**"
   ]
  },
  {
   "cell_type": "markdown",
   "metadata": {},
   "source": [
    "Variables marked in bold have a stronger correlation with the target."
   ]
  },
  {
   "cell_type": "code",
   "execution_count": 33,
   "metadata": {},
   "outputs": [],
   "source": [
    "# Transform dummy categorical variables to 1/0 instead of Y/N\n",
    "data_dummy_category = data[['gender','SeniorCitizen','Partner','Dependents','PhoneService',\n",
    "             'OnlineSecurity','OnlineBackup','DeviceProtection','TechSupport',\n",
    "             'StreamingTV','StreamingMovies','PaperlessBilling','NewCustomer','InternetExtraCare']].replace({'Yes': 1, 'No': 0, 'Female':1, 'Male':0})"
   ]
  },
  {
   "cell_type": "code",
   "execution_count": 34,
   "metadata": {},
   "outputs": [
    {
     "data": {
      "text/html": [
       "<div>\n",
       "<style scoped>\n",
       "    .dataframe tbody tr th:only-of-type {\n",
       "        vertical-align: middle;\n",
       "    }\n",
       "\n",
       "    .dataframe tbody tr th {\n",
       "        vertical-align: top;\n",
       "    }\n",
       "\n",
       "    .dataframe thead th {\n",
       "        text-align: right;\n",
       "    }\n",
       "</style>\n",
       "<table border=\"1\" class=\"dataframe\">\n",
       "  <thead>\n",
       "    <tr style=\"text-align: right;\">\n",
       "      <th></th>\n",
       "      <th>gender</th>\n",
       "      <th>SeniorCitizen</th>\n",
       "      <th>Partner</th>\n",
       "      <th>Dependents</th>\n",
       "      <th>PhoneService</th>\n",
       "      <th>OnlineSecurity</th>\n",
       "      <th>OnlineBackup</th>\n",
       "      <th>DeviceProtection</th>\n",
       "      <th>TechSupport</th>\n",
       "      <th>StreamingTV</th>\n",
       "      <th>StreamingMovies</th>\n",
       "      <th>PaperlessBilling</th>\n",
       "      <th>NewCustomer</th>\n",
       "      <th>InternetExtraCare</th>\n",
       "    </tr>\n",
       "  </thead>\n",
       "  <tbody>\n",
       "    <tr>\n",
       "      <td>0</td>\n",
       "      <td>1</td>\n",
       "      <td>0</td>\n",
       "      <td>1</td>\n",
       "      <td>0</td>\n",
       "      <td>0</td>\n",
       "      <td>0</td>\n",
       "      <td>1</td>\n",
       "      <td>0</td>\n",
       "      <td>0</td>\n",
       "      <td>0</td>\n",
       "      <td>0</td>\n",
       "      <td>1</td>\n",
       "      <td>0</td>\n",
       "      <td>1</td>\n",
       "    </tr>\n",
       "    <tr>\n",
       "      <td>1</td>\n",
       "      <td>0</td>\n",
       "      <td>0</td>\n",
       "      <td>0</td>\n",
       "      <td>0</td>\n",
       "      <td>1</td>\n",
       "      <td>1</td>\n",
       "      <td>0</td>\n",
       "      <td>1</td>\n",
       "      <td>0</td>\n",
       "      <td>0</td>\n",
       "      <td>0</td>\n",
       "      <td>0</td>\n",
       "      <td>0</td>\n",
       "      <td>1</td>\n",
       "    </tr>\n",
       "    <tr>\n",
       "      <td>2</td>\n",
       "      <td>0</td>\n",
       "      <td>0</td>\n",
       "      <td>0</td>\n",
       "      <td>0</td>\n",
       "      <td>1</td>\n",
       "      <td>1</td>\n",
       "      <td>1</td>\n",
       "      <td>0</td>\n",
       "      <td>0</td>\n",
       "      <td>0</td>\n",
       "      <td>0</td>\n",
       "      <td>1</td>\n",
       "      <td>0</td>\n",
       "      <td>1</td>\n",
       "    </tr>\n",
       "    <tr>\n",
       "      <td>3</td>\n",
       "      <td>0</td>\n",
       "      <td>0</td>\n",
       "      <td>0</td>\n",
       "      <td>0</td>\n",
       "      <td>0</td>\n",
       "      <td>1</td>\n",
       "      <td>0</td>\n",
       "      <td>1</td>\n",
       "      <td>1</td>\n",
       "      <td>0</td>\n",
       "      <td>0</td>\n",
       "      <td>0</td>\n",
       "      <td>0</td>\n",
       "      <td>1</td>\n",
       "    </tr>\n",
       "    <tr>\n",
       "      <td>4</td>\n",
       "      <td>1</td>\n",
       "      <td>0</td>\n",
       "      <td>0</td>\n",
       "      <td>0</td>\n",
       "      <td>1</td>\n",
       "      <td>0</td>\n",
       "      <td>0</td>\n",
       "      <td>0</td>\n",
       "      <td>0</td>\n",
       "      <td>0</td>\n",
       "      <td>0</td>\n",
       "      <td>1</td>\n",
       "      <td>0</td>\n",
       "      <td>0</td>\n",
       "    </tr>\n",
       "  </tbody>\n",
       "</table>\n",
       "</div>"
      ],
      "text/plain": [
       "   gender  SeniorCitizen  Partner  Dependents  PhoneService  OnlineSecurity  \\\n",
       "0       1              0        1           0             0               0   \n",
       "1       0              0        0           0             1               1   \n",
       "2       0              0        0           0             1               1   \n",
       "3       0              0        0           0             0               1   \n",
       "4       1              0        0           0             1               0   \n",
       "\n",
       "   OnlineBackup  DeviceProtection  TechSupport  StreamingTV  StreamingMovies  \\\n",
       "0             1                 0            0            0                0   \n",
       "1             0                 1            0            0                0   \n",
       "2             1                 0            0            0                0   \n",
       "3             0                 1            1            0                0   \n",
       "4             0                 0            0            0                0   \n",
       "\n",
       "   PaperlessBilling  NewCustomer  InternetExtraCare  \n",
       "0                 1            0                  1  \n",
       "1                 0            0                  1  \n",
       "2                 1            0                  1  \n",
       "3                 0            0                  1  \n",
       "4                 1            0                  0  "
      ]
     },
     "execution_count": 34,
     "metadata": {},
     "output_type": "execute_result"
    }
   ],
   "source": [
    "data_dummy_category.head()"
   ]
  },
  {
   "cell_type": "code",
   "execution_count": 35,
   "metadata": {},
   "outputs": [],
   "source": [
    "# Create Numeric Feature\n",
    "# We want create a feature that describes the customer's purchasing/consuming power comparing to others in each group\n",
    "# For Each Group (by Contract and group), calculate the difference to the group mean\n",
    "for cat in data_dummy_category.columns:\n",
    "    data_dummy_category[str(cat)+'_diff_mean'] = data['MonthlyCharges'] / data.groupby(['Contract','InternetService',cat])['MonthlyCharges'].transform('mean')\n",
    "    data_dummy_category[str(cat)+'_diff_std'] = data['MonthlyCharges'] / data.groupby(['Contract','InternetService',cat])['MonthlyCharges'].transform('std')"
   ]
  },
  {
   "cell_type": "code",
   "execution_count": 36,
   "metadata": {},
   "outputs": [
    {
     "data": {
      "text/html": [
       "<div>\n",
       "<style scoped>\n",
       "    .dataframe tbody tr th:only-of-type {\n",
       "        vertical-align: middle;\n",
       "    }\n",
       "\n",
       "    .dataframe tbody tr th {\n",
       "        vertical-align: top;\n",
       "    }\n",
       "\n",
       "    .dataframe thead th {\n",
       "        text-align: right;\n",
       "    }\n",
       "</style>\n",
       "<table border=\"1\" class=\"dataframe\">\n",
       "  <thead>\n",
       "    <tr style=\"text-align: right;\">\n",
       "      <th></th>\n",
       "      <th>gender</th>\n",
       "      <th>SeniorCitizen</th>\n",
       "      <th>Partner</th>\n",
       "      <th>Dependents</th>\n",
       "      <th>PhoneService</th>\n",
       "      <th>OnlineSecurity</th>\n",
       "      <th>OnlineBackup</th>\n",
       "      <th>DeviceProtection</th>\n",
       "      <th>TechSupport</th>\n",
       "      <th>StreamingTV</th>\n",
       "      <th>...</th>\n",
       "      <th>StreamingTV_diff_mean</th>\n",
       "      <th>StreamingTV_diff_std</th>\n",
       "      <th>StreamingMovies_diff_mean</th>\n",
       "      <th>StreamingMovies_diff_std</th>\n",
       "      <th>PaperlessBilling_diff_mean</th>\n",
       "      <th>PaperlessBilling_diff_std</th>\n",
       "      <th>NewCustomer_diff_mean</th>\n",
       "      <th>NewCustomer_diff_std</th>\n",
       "      <th>InternetExtraCare_diff_mean</th>\n",
       "      <th>InternetExtraCare_diff_std</th>\n",
       "    </tr>\n",
       "  </thead>\n",
       "  <tbody>\n",
       "    <tr>\n",
       "      <td>0</td>\n",
       "      <td>1</td>\n",
       "      <td>0</td>\n",
       "      <td>1</td>\n",
       "      <td>0</td>\n",
       "      <td>0</td>\n",
       "      <td>0</td>\n",
       "      <td>1</td>\n",
       "      <td>0</td>\n",
       "      <td>0</td>\n",
       "      <td>0</td>\n",
       "      <td>...</td>\n",
       "      <td>0.631727</td>\n",
       "      <td>2.547314</td>\n",
       "      <td>0.629994</td>\n",
       "      <td>2.538539</td>\n",
       "      <td>0.590869</td>\n",
       "      <td>2.310374</td>\n",
       "      <td>0.594391</td>\n",
       "      <td>2.290901</td>\n",
       "      <td>0.550110</td>\n",
       "      <td>2.314952</td>\n",
       "    </tr>\n",
       "    <tr>\n",
       "      <td>1</td>\n",
       "      <td>0</td>\n",
       "      <td>0</td>\n",
       "      <td>0</td>\n",
       "      <td>0</td>\n",
       "      <td>1</td>\n",
       "      <td>1</td>\n",
       "      <td>0</td>\n",
       "      <td>1</td>\n",
       "      <td>0</td>\n",
       "      <td>0</td>\n",
       "      <td>...</td>\n",
       "      <td>1.022856</td>\n",
       "      <td>4.525806</td>\n",
       "      <td>1.030397</td>\n",
       "      <td>4.533459</td>\n",
       "      <td>0.943232</td>\n",
       "      <td>4.006515</td>\n",
       "      <td>0.927573</td>\n",
       "      <td>4.077507</td>\n",
       "      <td>0.911579</td>\n",
       "      <td>4.199706</td>\n",
       "    </tr>\n",
       "    <tr>\n",
       "      <td>2</td>\n",
       "      <td>0</td>\n",
       "      <td>0</td>\n",
       "      <td>0</td>\n",
       "      <td>0</td>\n",
       "      <td>1</td>\n",
       "      <td>1</td>\n",
       "      <td>1</td>\n",
       "      <td>0</td>\n",
       "      <td>0</td>\n",
       "      <td>0</td>\n",
       "      <td>...</td>\n",
       "      <td>1.139647</td>\n",
       "      <td>4.595406</td>\n",
       "      <td>1.136521</td>\n",
       "      <td>4.579575</td>\n",
       "      <td>1.065939</td>\n",
       "      <td>4.167961</td>\n",
       "      <td>1.072293</td>\n",
       "      <td>4.132831</td>\n",
       "      <td>0.992410</td>\n",
       "      <td>4.176220</td>\n",
       "    </tr>\n",
       "    <tr>\n",
       "      <td>3</td>\n",
       "      <td>0</td>\n",
       "      <td>0</td>\n",
       "      <td>0</td>\n",
       "      <td>0</td>\n",
       "      <td>0</td>\n",
       "      <td>1</td>\n",
       "      <td>0</td>\n",
       "      <td>1</td>\n",
       "      <td>1</td>\n",
       "      <td>0</td>\n",
       "      <td>...</td>\n",
       "      <td>0.759733</td>\n",
       "      <td>3.361573</td>\n",
       "      <td>0.765335</td>\n",
       "      <td>3.367257</td>\n",
       "      <td>0.700592</td>\n",
       "      <td>2.975866</td>\n",
       "      <td>0.688962</td>\n",
       "      <td>3.028596</td>\n",
       "      <td>0.677081</td>\n",
       "      <td>3.119360</td>\n",
       "    </tr>\n",
       "    <tr>\n",
       "      <td>4</td>\n",
       "      <td>1</td>\n",
       "      <td>0</td>\n",
       "      <td>0</td>\n",
       "      <td>0</td>\n",
       "      <td>1</td>\n",
       "      <td>0</td>\n",
       "      <td>0</td>\n",
       "      <td>0</td>\n",
       "      <td>0</td>\n",
       "      <td>0</td>\n",
       "      <td>...</td>\n",
       "      <td>0.890142</td>\n",
       "      <td>9.450126</td>\n",
       "      <td>0.889308</td>\n",
       "      <td>9.170660</td>\n",
       "      <td>0.807288</td>\n",
       "      <td>6.287767</td>\n",
       "      <td>0.812446</td>\n",
       "      <td>6.313616</td>\n",
       "      <td>0.880088</td>\n",
       "      <td>8.011627</td>\n",
       "    </tr>\n",
       "  </tbody>\n",
       "</table>\n",
       "<p>5 rows × 42 columns</p>\n",
       "</div>"
      ],
      "text/plain": [
       "   gender  SeniorCitizen  Partner  Dependents  PhoneService  OnlineSecurity  \\\n",
       "0       1              0        1           0             0               0   \n",
       "1       0              0        0           0             1               1   \n",
       "2       0              0        0           0             1               1   \n",
       "3       0              0        0           0             0               1   \n",
       "4       1              0        0           0             1               0   \n",
       "\n",
       "   OnlineBackup  DeviceProtection  TechSupport  StreamingTV  ...  \\\n",
       "0             1                 0            0            0  ...   \n",
       "1             0                 1            0            0  ...   \n",
       "2             1                 0            0            0  ...   \n",
       "3             0                 1            1            0  ...   \n",
       "4             0                 0            0            0  ...   \n",
       "\n",
       "   StreamingTV_diff_mean  StreamingTV_diff_std  StreamingMovies_diff_mean  \\\n",
       "0               0.631727              2.547314                   0.629994   \n",
       "1               1.022856              4.525806                   1.030397   \n",
       "2               1.139647              4.595406                   1.136521   \n",
       "3               0.759733              3.361573                   0.765335   \n",
       "4               0.890142              9.450126                   0.889308   \n",
       "\n",
       "   StreamingMovies_diff_std  PaperlessBilling_diff_mean  \\\n",
       "0                  2.538539                    0.590869   \n",
       "1                  4.533459                    0.943232   \n",
       "2                  4.579575                    1.065939   \n",
       "3                  3.367257                    0.700592   \n",
       "4                  9.170660                    0.807288   \n",
       "\n",
       "   PaperlessBilling_diff_std  NewCustomer_diff_mean  NewCustomer_diff_std  \\\n",
       "0                   2.310374               0.594391              2.290901   \n",
       "1                   4.006515               0.927573              4.077507   \n",
       "2                   4.167961               1.072293              4.132831   \n",
       "3                   2.975866               0.688962              3.028596   \n",
       "4                   6.287767               0.812446              6.313616   \n",
       "\n",
       "   InternetExtraCare_diff_mean  InternetExtraCare_diff_std  \n",
       "0                     0.550110                    2.314952  \n",
       "1                     0.911579                    4.199706  \n",
       "2                     0.992410                    4.176220  \n",
       "3                     0.677081                    3.119360  \n",
       "4                     0.880088                    8.011627  \n",
       "\n",
       "[5 rows x 42 columns]"
      ]
     },
     "execution_count": 36,
     "metadata": {},
     "output_type": "execute_result"
    }
   ],
   "source": [
    "data_dummy_category.head()"
   ]
  },
  {
   "cell_type": "code",
   "execution_count": 37,
   "metadata": {},
   "outputs": [
    {
     "data": {
      "text/html": [
       "<div>\n",
       "<style scoped>\n",
       "    .dataframe tbody tr th:only-of-type {\n",
       "        vertical-align: middle;\n",
       "    }\n",
       "\n",
       "    .dataframe tbody tr th {\n",
       "        vertical-align: top;\n",
       "    }\n",
       "\n",
       "    .dataframe thead th {\n",
       "        text-align: right;\n",
       "    }\n",
       "</style>\n",
       "<table border=\"1\" class=\"dataframe\">\n",
       "  <thead>\n",
       "    <tr style=\"text-align: right;\">\n",
       "      <th></th>\n",
       "      <th>Contract_Month-to-month</th>\n",
       "      <th>Contract_One year</th>\n",
       "      <th>Contract_Two year</th>\n",
       "      <th>PaymentMethod_Bank transfer (automatic)</th>\n",
       "      <th>PaymentMethod_Credit card (automatic)</th>\n",
       "      <th>PaymentMethod_Electronic check</th>\n",
       "      <th>PaymentMethod_Mailed check</th>\n",
       "      <th>InternetService_DSL</th>\n",
       "      <th>InternetService_Fiber optic</th>\n",
       "      <th>InternetService_No</th>\n",
       "    </tr>\n",
       "  </thead>\n",
       "  <tbody>\n",
       "    <tr>\n",
       "      <td>0</td>\n",
       "      <td>1</td>\n",
       "      <td>0</td>\n",
       "      <td>0</td>\n",
       "      <td>0</td>\n",
       "      <td>0</td>\n",
       "      <td>1</td>\n",
       "      <td>0</td>\n",
       "      <td>1</td>\n",
       "      <td>0</td>\n",
       "      <td>0</td>\n",
       "    </tr>\n",
       "    <tr>\n",
       "      <td>1</td>\n",
       "      <td>0</td>\n",
       "      <td>1</td>\n",
       "      <td>0</td>\n",
       "      <td>0</td>\n",
       "      <td>0</td>\n",
       "      <td>0</td>\n",
       "      <td>1</td>\n",
       "      <td>1</td>\n",
       "      <td>0</td>\n",
       "      <td>0</td>\n",
       "    </tr>\n",
       "    <tr>\n",
       "      <td>2</td>\n",
       "      <td>1</td>\n",
       "      <td>0</td>\n",
       "      <td>0</td>\n",
       "      <td>0</td>\n",
       "      <td>0</td>\n",
       "      <td>0</td>\n",
       "      <td>1</td>\n",
       "      <td>1</td>\n",
       "      <td>0</td>\n",
       "      <td>0</td>\n",
       "    </tr>\n",
       "    <tr>\n",
       "      <td>3</td>\n",
       "      <td>0</td>\n",
       "      <td>1</td>\n",
       "      <td>0</td>\n",
       "      <td>1</td>\n",
       "      <td>0</td>\n",
       "      <td>0</td>\n",
       "      <td>0</td>\n",
       "      <td>1</td>\n",
       "      <td>0</td>\n",
       "      <td>0</td>\n",
       "    </tr>\n",
       "    <tr>\n",
       "      <td>4</td>\n",
       "      <td>1</td>\n",
       "      <td>0</td>\n",
       "      <td>0</td>\n",
       "      <td>0</td>\n",
       "      <td>0</td>\n",
       "      <td>1</td>\n",
       "      <td>0</td>\n",
       "      <td>0</td>\n",
       "      <td>1</td>\n",
       "      <td>0</td>\n",
       "    </tr>\n",
       "  </tbody>\n",
       "</table>\n",
       "</div>"
      ],
      "text/plain": [
       "   Contract_Month-to-month  Contract_One year  Contract_Two year  \\\n",
       "0                        1                  0                  0   \n",
       "1                        0                  1                  0   \n",
       "2                        1                  0                  0   \n",
       "3                        0                  1                  0   \n",
       "4                        1                  0                  0   \n",
       "\n",
       "   PaymentMethod_Bank transfer (automatic)  \\\n",
       "0                                        0   \n",
       "1                                        0   \n",
       "2                                        0   \n",
       "3                                        1   \n",
       "4                                        0   \n",
       "\n",
       "   PaymentMethod_Credit card (automatic)  PaymentMethod_Electronic check  \\\n",
       "0                                      0                               1   \n",
       "1                                      0                               0   \n",
       "2                                      0                               0   \n",
       "3                                      0                               0   \n",
       "4                                      0                               1   \n",
       "\n",
       "   PaymentMethod_Mailed check  InternetService_DSL  \\\n",
       "0                           0                    1   \n",
       "1                           1                    1   \n",
       "2                           1                    1   \n",
       "3                           0                    1   \n",
       "4                           0                    0   \n",
       "\n",
       "   InternetService_Fiber optic  InternetService_No  \n",
       "0                            0                   0  \n",
       "1                            0                   0  \n",
       "2                            0                   0  \n",
       "3                            0                   0  \n",
       "4                            1                   0  "
      ]
     },
     "execution_count": 37,
     "metadata": {},
     "output_type": "execute_result"
    }
   ],
   "source": [
    "#Transform multi-category variables to dummy variables\n",
    "data_multi_category = pd.get_dummies(data[['Contract', 'PaymentMethod','InternetService']])\n",
    "data_multi_category.head()"
   ]
  },
  {
   "cell_type": "code",
   "execution_count": 38,
   "metadata": {},
   "outputs": [],
   "source": [
    "from sklearn.preprocessing import StandardScaler\n",
    "scaler = StandardScaler()\n",
    "num_scale = scaler.fit_transform(data[['tenure','MonthlyCharges','TotalCharges','TotalCharges_Log']])\n",
    "num_scale = pd.DataFrame(num_scale,columns=['tenure','MonthlyCharges','TotalCharges','TotalCharges_Log'])"
   ]
  },
  {
   "cell_type": "code",
   "execution_count": 39,
   "metadata": {},
   "outputs": [
    {
     "data": {
      "text/html": [
       "<div>\n",
       "<style scoped>\n",
       "    .dataframe tbody tr th:only-of-type {\n",
       "        vertical-align: middle;\n",
       "    }\n",
       "\n",
       "    .dataframe tbody tr th {\n",
       "        vertical-align: top;\n",
       "    }\n",
       "\n",
       "    .dataframe thead th {\n",
       "        text-align: right;\n",
       "    }\n",
       "</style>\n",
       "<table border=\"1\" class=\"dataframe\">\n",
       "  <thead>\n",
       "    <tr style=\"text-align: right;\">\n",
       "      <th></th>\n",
       "      <th>gender</th>\n",
       "      <th>SeniorCitizen</th>\n",
       "      <th>Partner</th>\n",
       "      <th>Dependents</th>\n",
       "      <th>PhoneService</th>\n",
       "      <th>OnlineSecurity</th>\n",
       "      <th>OnlineBackup</th>\n",
       "      <th>DeviceProtection</th>\n",
       "      <th>TechSupport</th>\n",
       "      <th>StreamingTV</th>\n",
       "      <th>...</th>\n",
       "      <th>PaymentMethod_Credit card (automatic)</th>\n",
       "      <th>PaymentMethod_Electronic check</th>\n",
       "      <th>PaymentMethod_Mailed check</th>\n",
       "      <th>InternetService_DSL</th>\n",
       "      <th>InternetService_Fiber optic</th>\n",
       "      <th>InternetService_No</th>\n",
       "      <th>tenure</th>\n",
       "      <th>MonthlyCharges</th>\n",
       "      <th>TotalCharges</th>\n",
       "      <th>TotalCharges_Log</th>\n",
       "    </tr>\n",
       "  </thead>\n",
       "  <tbody>\n",
       "    <tr>\n",
       "      <td>0</td>\n",
       "      <td>1</td>\n",
       "      <td>0</td>\n",
       "      <td>1</td>\n",
       "      <td>0</td>\n",
       "      <td>0</td>\n",
       "      <td>0</td>\n",
       "      <td>1</td>\n",
       "      <td>0</td>\n",
       "      <td>0</td>\n",
       "      <td>0</td>\n",
       "      <td>...</td>\n",
       "      <td>0</td>\n",
       "      <td>1</td>\n",
       "      <td>0</td>\n",
       "      <td>1</td>\n",
       "      <td>0</td>\n",
       "      <td>0</td>\n",
       "      <td>-1.277445</td>\n",
       "      <td>-1.160323</td>\n",
       "      <td>-0.992611</td>\n",
       "      <td>-2.212693</td>\n",
       "    </tr>\n",
       "    <tr>\n",
       "      <td>1</td>\n",
       "      <td>0</td>\n",
       "      <td>0</td>\n",
       "      <td>0</td>\n",
       "      <td>0</td>\n",
       "      <td>1</td>\n",
       "      <td>1</td>\n",
       "      <td>0</td>\n",
       "      <td>1</td>\n",
       "      <td>0</td>\n",
       "      <td>0</td>\n",
       "      <td>...</td>\n",
       "      <td>0</td>\n",
       "      <td>0</td>\n",
       "      <td>1</td>\n",
       "      <td>1</td>\n",
       "      <td>0</td>\n",
       "      <td>0</td>\n",
       "      <td>0.066327</td>\n",
       "      <td>-0.259629</td>\n",
       "      <td>-0.172165</td>\n",
       "      <td>0.388255</td>\n",
       "    </tr>\n",
       "    <tr>\n",
       "      <td>2</td>\n",
       "      <td>0</td>\n",
       "      <td>0</td>\n",
       "      <td>0</td>\n",
       "      <td>0</td>\n",
       "      <td>1</td>\n",
       "      <td>1</td>\n",
       "      <td>1</td>\n",
       "      <td>0</td>\n",
       "      <td>0</td>\n",
       "      <td>0</td>\n",
       "      <td>...</td>\n",
       "      <td>0</td>\n",
       "      <td>0</td>\n",
       "      <td>1</td>\n",
       "      <td>1</td>\n",
       "      <td>0</td>\n",
       "      <td>0</td>\n",
       "      <td>-1.236724</td>\n",
       "      <td>-0.362660</td>\n",
       "      <td>-0.958066</td>\n",
       "      <td>-1.406343</td>\n",
       "    </tr>\n",
       "    <tr>\n",
       "      <td>3</td>\n",
       "      <td>0</td>\n",
       "      <td>0</td>\n",
       "      <td>0</td>\n",
       "      <td>0</td>\n",
       "      <td>0</td>\n",
       "      <td>1</td>\n",
       "      <td>0</td>\n",
       "      <td>1</td>\n",
       "      <td>1</td>\n",
       "      <td>0</td>\n",
       "      <td>...</td>\n",
       "      <td>0</td>\n",
       "      <td>0</td>\n",
       "      <td>0</td>\n",
       "      <td>1</td>\n",
       "      <td>0</td>\n",
       "      <td>0</td>\n",
       "      <td>0.514251</td>\n",
       "      <td>-0.746535</td>\n",
       "      <td>-0.193672</td>\n",
       "      <td>0.371852</td>\n",
       "    </tr>\n",
       "    <tr>\n",
       "      <td>4</td>\n",
       "      <td>1</td>\n",
       "      <td>0</td>\n",
       "      <td>0</td>\n",
       "      <td>0</td>\n",
       "      <td>1</td>\n",
       "      <td>0</td>\n",
       "      <td>0</td>\n",
       "      <td>0</td>\n",
       "      <td>0</td>\n",
       "      <td>0</td>\n",
       "      <td>...</td>\n",
       "      <td>0</td>\n",
       "      <td>1</td>\n",
       "      <td>0</td>\n",
       "      <td>0</td>\n",
       "      <td>1</td>\n",
       "      <td>0</td>\n",
       "      <td>-1.236724</td>\n",
       "      <td>0.197365</td>\n",
       "      <td>-0.938874</td>\n",
       "      <td>-1.194361</td>\n",
       "    </tr>\n",
       "  </tbody>\n",
       "</table>\n",
       "<p>5 rows × 56 columns</p>\n",
       "</div>"
      ],
      "text/plain": [
       "   gender  SeniorCitizen  Partner  Dependents  PhoneService  OnlineSecurity  \\\n",
       "0       1              0        1           0             0               0   \n",
       "1       0              0        0           0             1               1   \n",
       "2       0              0        0           0             1               1   \n",
       "3       0              0        0           0             0               1   \n",
       "4       1              0        0           0             1               0   \n",
       "\n",
       "   OnlineBackup  DeviceProtection  TechSupport  StreamingTV  ...  \\\n",
       "0             1                 0            0            0  ...   \n",
       "1             0                 1            0            0  ...   \n",
       "2             1                 0            0            0  ...   \n",
       "3             0                 1            1            0  ...   \n",
       "4             0                 0            0            0  ...   \n",
       "\n",
       "   PaymentMethod_Credit card (automatic)  PaymentMethod_Electronic check  \\\n",
       "0                                      0                               1   \n",
       "1                                      0                               0   \n",
       "2                                      0                               0   \n",
       "3                                      0                               0   \n",
       "4                                      0                               1   \n",
       "\n",
       "   PaymentMethod_Mailed check  InternetService_DSL  \\\n",
       "0                           0                    1   \n",
       "1                           1                    1   \n",
       "2                           1                    1   \n",
       "3                           0                    1   \n",
       "4                           0                    0   \n",
       "\n",
       "   InternetService_Fiber optic  InternetService_No    tenure  MonthlyCharges  \\\n",
       "0                            0                   0 -1.277445       -1.160323   \n",
       "1                            0                   0  0.066327       -0.259629   \n",
       "2                            0                   0 -1.236724       -0.362660   \n",
       "3                            0                   0  0.514251       -0.746535   \n",
       "4                            1                   0 -1.236724        0.197365   \n",
       "\n",
       "   TotalCharges  TotalCharges_Log  \n",
       "0     -0.992611         -2.212693  \n",
       "1     -0.172165          0.388255  \n",
       "2     -0.958066         -1.406343  \n",
       "3     -0.193672          0.371852  \n",
       "4     -0.938874         -1.194361  \n",
       "\n",
       "[5 rows x 56 columns]"
      ]
     },
     "execution_count": 39,
     "metadata": {},
     "output_type": "execute_result"
    }
   ],
   "source": [
    "y = data['Churn'].replace({'Yes':1,'No':0})\n",
    "X = pd.concat([data_dummy_category, data_multi_category, num_scale],axis=1)\n",
    "X.head()"
   ]
  },
  {
   "cell_type": "code",
   "execution_count": 40,
   "metadata": {},
   "outputs": [
    {
     "data": {
      "text/plain": [
       "gender                                     0\n",
       "SeniorCitizen                              0\n",
       "Partner                                    0\n",
       "Dependents                                 0\n",
       "PhoneService                               0\n",
       "OnlineSecurity                             0\n",
       "OnlineBackup                               0\n",
       "DeviceProtection                           0\n",
       "TechSupport                                0\n",
       "StreamingTV                                0\n",
       "StreamingMovies                            0\n",
       "PaperlessBilling                           0\n",
       "NewCustomer                                0\n",
       "InternetExtraCare                          0\n",
       "gender_diff_mean                           0\n",
       "gender_diff_std                            0\n",
       "SeniorCitizen_diff_mean                    0\n",
       "SeniorCitizen_diff_std                     0\n",
       "Partner_diff_mean                          0\n",
       "Partner_diff_std                           0\n",
       "Dependents_diff_mean                       0\n",
       "Dependents_diff_std                        0\n",
       "PhoneService_diff_mean                     0\n",
       "PhoneService_diff_std                      0\n",
       "OnlineSecurity_diff_mean                   0\n",
       "OnlineSecurity_diff_std                    0\n",
       "OnlineBackup_diff_mean                     0\n",
       "OnlineBackup_diff_std                      0\n",
       "DeviceProtection_diff_mean                 0\n",
       "DeviceProtection_diff_std                  0\n",
       "TechSupport_diff_mean                      0\n",
       "TechSupport_diff_std                       0\n",
       "StreamingTV_diff_mean                      0\n",
       "StreamingTV_diff_std                       0\n",
       "StreamingMovies_diff_mean                  0\n",
       "StreamingMovies_diff_std                   0\n",
       "PaperlessBilling_diff_mean                 0\n",
       "PaperlessBilling_diff_std                  0\n",
       "NewCustomer_diff_mean                      0\n",
       "NewCustomer_diff_std                       1\n",
       "InternetExtraCare_diff_mean                0\n",
       "InternetExtraCare_diff_std                 0\n",
       "Contract_Month-to-month                    0\n",
       "Contract_One year                          0\n",
       "Contract_Two year                          0\n",
       "PaymentMethod_Bank transfer (automatic)    0\n",
       "PaymentMethod_Credit card (automatic)      0\n",
       "PaymentMethod_Electronic check             0\n",
       "PaymentMethod_Mailed check                 0\n",
       "InternetService_DSL                        0\n",
       "InternetService_Fiber optic                0\n",
       "InternetService_No                         0\n",
       "tenure                                     0\n",
       "MonthlyCharges                             0\n",
       "TotalCharges                               0\n",
       "TotalCharges_Log                           0\n",
       "dtype: int64"
      ]
     },
     "execution_count": 40,
     "metadata": {},
     "output_type": "execute_result"
    }
   ],
   "source": [
    "X.isna().sum()"
   ]
  },
  {
   "cell_type": "code",
   "execution_count": 41,
   "metadata": {},
   "outputs": [],
   "source": [
    "X['NewCustomer_diff_std'] = X['NewCustomer_diff_std'].fillna(-99)"
   ]
  },
  {
   "cell_type": "code",
   "execution_count": 42,
   "metadata": {},
   "outputs": [
    {
     "name": "stdout",
     "output_type": "stream",
     "text": [
      "(4930, 56)\n",
      "(2113, 56)\n"
     ]
    }
   ],
   "source": [
    "from sklearn.model_selection import train_test_split\n",
    "X_train, X_test, y_train, y_test = train_test_split(X, y, test_size = 0.3, random_state=42)\n",
    "print(X_train.shape)\n",
    "print(X_test.shape)"
   ]
  },
  {
   "cell_type": "markdown",
   "metadata": {},
   "source": [
    "# Prediction"
   ]
  },
  {
   "cell_type": "code",
   "execution_count": 43,
   "metadata": {},
   "outputs": [],
   "source": [
    "from sklearn.linear_model import LogisticRegression\n",
    "from sklearn.metrics import precision_recall_fscore_support as score\n",
    "from sklearn.metrics import accuracy_score, confusion_matrix\n",
    "from sklearn.model_selection import GridSearchCV"
   ]
  },
  {
   "cell_type": "code",
   "execution_count": 44,
   "metadata": {},
   "outputs": [],
   "source": [
    "#logistic regression\n",
    "lr_mod = LogisticRegression(solver = 'liblinear')\n",
    "result = lr_mod.fit(X_train, y_train)\n",
    "predicted_y = lr_mod.predict(X_test)"
   ]
  },
  {
   "cell_type": "code",
   "execution_count": 45,
   "metadata": {},
   "outputs": [],
   "source": [
    "def calc_score(y_true, y_pred, model_name):\n",
    "    precision, recall, fscore, support = score(y_true, y_pred, pos_label = 1, average = 'binary')\n",
    "    accuracy = (y_true == y_pred).sum()/len(y_true)\n",
    "    print('{}\\naccuracy:{:.3f}/precision:{:.3f}/recall:{:.3f}/fscore:{:.3f}'.format(model_name,accuracy,precision,recall,fscore))"
   ]
  },
  {
   "cell_type": "code",
   "execution_count": 46,
   "metadata": {},
   "outputs": [
    {
     "name": "stdout",
     "output_type": "stream",
     "text": [
      "Logistic Regression:\n",
      "accuracy:0.805/precision:0.679/recall:0.531/fscore:0.596\n"
     ]
    }
   ],
   "source": [
    "calc_score(y_test, predicted_y, 'Logistic Regression:')"
   ]
  },
  {
   "cell_type": "code",
   "execution_count": 47,
   "metadata": {},
   "outputs": [
    {
     "data": {
      "image/png": "[encoded data removed]",
      "text/plain": [
       "<Figure size 432x288 with 2 Axes>"
      ]
     },
     "metadata": {
      "needs_background": "light"
     },
     "output_type": "display_data"
    }
   ],
   "source": [
    "cf_matrix = confusion_matrix(y_test, predicted_y)\n",
    "f,ax=plt.subplots()\n",
    "sns.heatmap(cf_matrix, annot=True, fmt='d', cmap='Blues',ax=ax)\n",
    "ax.set_ylim([0,2])\n",
    "plt.ylabel('Actual')\n",
    "plt.xlabel('Predicted')\n",
    "plt.title(\"Confusion matrix of Logistic Model\")\n",
    "plt.show()"
   ]
  },
  {
   "cell_type": "code",
   "execution_count": 48,
   "metadata": {},
   "outputs": [],
   "source": [
    "# Variable Importance in Logistic Model\n",
    "weights = pd.DataFrame({'coef':lr_mod.coef_[0], \n",
    "                                 'variable': X.columns.values, \n",
    "                                 'abs_coef': abs(lr_mod.coef_[0])})\n",
    "weights = weights.sort_values(by=['abs_coef'],ascending=False)"
   ]
  },
  {
   "cell_type": "code",
   "execution_count": 49,
   "metadata": {},
   "outputs": [
    {
     "data": {
      "image/png": "[encoded data removed]",
      "text/plain": [
       "<Figure size 720x360 with 1 Axes>"
      ]
     },
     "metadata": {
      "needs_background": "light"
     },
     "output_type": "display_data"
    }
   ],
   "source": [
    "f,ax = plt.subplots(figsize=(10,5))\n",
    "sns.barplot(x='coef',y = 'variable', data=weights.head(10),ax=ax)\n",
    "plt.show()"
   ]
  },
  {
   "cell_type": "code",
   "execution_count": 51,
   "metadata": {},
   "outputs": [],
   "source": [
    "# SMOTE for oversampling\n",
    "from imblearn.over_sampling import SMOTE"
   ]
  },
  {
   "cell_type": "code",
   "execution_count": 52,
   "metadata": {},
   "outputs": [
    {
     "name": "stdout",
     "output_type": "stream",
     "text": [
      "Before OverSampling, counts of label '1': 1295\n",
      "Before OverSampling, counts of label '0': 3635 \n",
      "\n",
      "After OverSampling, the shape of train_X: (5816, 56)\n",
      "After OverSampling, the shape of train_y: (5816,) \n",
      "\n",
      "After OverSampling, counts of label '1': 2181\n",
      "After OverSampling, counts of label '0': 3635\n"
     ]
    }
   ],
   "source": [
    "print(\"Before OverSampling, counts of label '1': {}\".format(sum(y_train==1)))\n",
    "print(\"Before OverSampling, counts of label '0': {} \\n\".format(sum(y_train==0)))\n",
    "\n",
    "sm = SMOTE(random_state=2, sampling_strategy=0.6)\n",
    "X_train_res, y_train_res = sm.fit_sample(X_train, y_train.ravel())\n",
    "\n",
    "print('After OverSampling, the shape of train_X: {}'.format(X_train_res.shape))\n",
    "print('After OverSampling, the shape of train_y: {} \\n'.format(y_train_res.shape))\n",
    "\n",
    "print(\"After OverSampling, counts of label '1': {}\".format(sum(y_train_res==1)))\n",
    "print(\"After OverSampling, counts of label '0': {}\".format(sum(y_train_res==0)))"
   ]
  },
  {
   "cell_type": "code",
   "execution_count": 53,
   "metadata": {},
   "outputs": [
    {
     "name": "stdout",
     "output_type": "stream",
     "text": [
      "Logistic Regression (Oversampling)\n",
      "accuracy:0.797/precision:0.611/recall:0.702/fscore:0.653\n"
     ]
    }
   ],
   "source": [
    "result = lr_mod.fit(X_train_res, y_train_res)\n",
    "predicted_y = lr_mod.predict(X_test)\n",
    "calc_score(y_test, predicted_y, 'Logistic Regression (Oversampling)')"
   ]
  },
  {
   "cell_type": "markdown",
   "metadata": {},
   "source": [
    "If we apply oversampling on the training data, the accuracy and precision is lower, however, the recall score is higher. It means that the model is more aggressive in predicting the churn."
   ]
  },
  {
   "cell_type": "markdown",
   "metadata": {},
   "source": [
    "### Feature Selection"
   ]
  },
  {
   "cell_type": "code",
   "execution_count": 54,
   "metadata": {},
   "outputs": [],
   "source": [
    "#remove some variables\n",
    "columns_drop = weights.variable[-15:]"
   ]
  },
  {
   "cell_type": "code",
   "execution_count": 55,
   "metadata": {},
   "outputs": [
    {
     "data": {
      "text/html": [
       "<div>\n",
       "<style scoped>\n",
       "    .dataframe tbody tr th:only-of-type {\n",
       "        vertical-align: middle;\n",
       "    }\n",
       "\n",
       "    .dataframe tbody tr th {\n",
       "        vertical-align: top;\n",
       "    }\n",
       "\n",
       "    .dataframe thead th {\n",
       "        text-align: right;\n",
       "    }\n",
       "</style>\n",
       "<table border=\"1\" class=\"dataframe\">\n",
       "  <thead>\n",
       "    <tr style=\"text-align: right;\">\n",
       "      <th></th>\n",
       "      <th>SeniorCitizen</th>\n",
       "      <th>Dependents</th>\n",
       "      <th>PhoneService</th>\n",
       "      <th>OnlineSecurity</th>\n",
       "      <th>OnlineBackup</th>\n",
       "      <th>DeviceProtection</th>\n",
       "      <th>TechSupport</th>\n",
       "      <th>StreamingTV</th>\n",
       "      <th>StreamingMovies</th>\n",
       "      <th>PaperlessBilling</th>\n",
       "      <th>...</th>\n",
       "      <th>PaymentMethod_Bank transfer (automatic)</th>\n",
       "      <th>PaymentMethod_Credit card (automatic)</th>\n",
       "      <th>PaymentMethod_Mailed check</th>\n",
       "      <th>InternetService_DSL</th>\n",
       "      <th>InternetService_Fiber optic</th>\n",
       "      <th>InternetService_No</th>\n",
       "      <th>tenure</th>\n",
       "      <th>MonthlyCharges</th>\n",
       "      <th>TotalCharges</th>\n",
       "      <th>TotalCharges_Log</th>\n",
       "    </tr>\n",
       "  </thead>\n",
       "  <tbody>\n",
       "    <tr>\n",
       "      <td>1695</td>\n",
       "      <td>0</td>\n",
       "      <td>1</td>\n",
       "      <td>1</td>\n",
       "      <td>0</td>\n",
       "      <td>1</td>\n",
       "      <td>0</td>\n",
       "      <td>1</td>\n",
       "      <td>1</td>\n",
       "      <td>0</td>\n",
       "      <td>1</td>\n",
       "      <td>...</td>\n",
       "      <td>0</td>\n",
       "      <td>0</td>\n",
       "      <td>0</td>\n",
       "      <td>1</td>\n",
       "      <td>0</td>\n",
       "      <td>0</td>\n",
       "      <td>0.880735</td>\n",
       "      <td>0.197365</td>\n",
       "      <td>0.657480</td>\n",
       "      <td>0.821728</td>\n",
       "    </tr>\n",
       "    <tr>\n",
       "      <td>1095</td>\n",
       "      <td>0</td>\n",
       "      <td>0</td>\n",
       "      <td>1</td>\n",
       "      <td>0</td>\n",
       "      <td>0</td>\n",
       "      <td>0</td>\n",
       "      <td>0</td>\n",
       "      <td>1</td>\n",
       "      <td>0</td>\n",
       "      <td>1</td>\n",
       "      <td>...</td>\n",
       "      <td>0</td>\n",
       "      <td>0</td>\n",
       "      <td>0</td>\n",
       "      <td>0</td>\n",
       "      <td>1</td>\n",
       "      <td>0</td>\n",
       "      <td>-1.277445</td>\n",
       "      <td>0.524739</td>\n",
       "      <td>-0.970243</td>\n",
       "      <td>-1.591047</td>\n",
       "    </tr>\n",
       "    <tr>\n",
       "      <td>3889</td>\n",
       "      <td>0</td>\n",
       "      <td>0</td>\n",
       "      <td>1</td>\n",
       "      <td>0</td>\n",
       "      <td>0</td>\n",
       "      <td>0</td>\n",
       "      <td>0</td>\n",
       "      <td>0</td>\n",
       "      <td>0</td>\n",
       "      <td>0</td>\n",
       "      <td>...</td>\n",
       "      <td>0</td>\n",
       "      <td>1</td>\n",
       "      <td>0</td>\n",
       "      <td>0</td>\n",
       "      <td>0</td>\n",
       "      <td>1</td>\n",
       "      <td>-0.788800</td>\n",
       "      <td>-1.510962</td>\n",
       "      <td>-0.891227</td>\n",
       "      <td>-0.857061</td>\n",
       "    </tr>\n",
       "    <tr>\n",
       "      <td>3667</td>\n",
       "      <td>1</td>\n",
       "      <td>1</td>\n",
       "      <td>1</td>\n",
       "      <td>0</td>\n",
       "      <td>0</td>\n",
       "      <td>1</td>\n",
       "      <td>0</td>\n",
       "      <td>1</td>\n",
       "      <td>1</td>\n",
       "      <td>1</td>\n",
       "      <td>...</td>\n",
       "      <td>0</td>\n",
       "      <td>0</td>\n",
       "      <td>0</td>\n",
       "      <td>0</td>\n",
       "      <td>1</td>\n",
       "      <td>0</td>\n",
       "      <td>-0.340876</td>\n",
       "      <td>1.056514</td>\n",
       "      <td>-0.007184</td>\n",
       "      <td>0.501571</td>\n",
       "    </tr>\n",
       "    <tr>\n",
       "      <td>2902</td>\n",
       "      <td>1</td>\n",
       "      <td>0</td>\n",
       "      <td>1</td>\n",
       "      <td>1</td>\n",
       "      <td>0</td>\n",
       "      <td>0</td>\n",
       "      <td>0</td>\n",
       "      <td>0</td>\n",
       "      <td>0</td>\n",
       "      <td>1</td>\n",
       "      <td>...</td>\n",
       "      <td>0</td>\n",
       "      <td>0</td>\n",
       "      <td>0</td>\n",
       "      <td>0</td>\n",
       "      <td>1</td>\n",
       "      <td>0</td>\n",
       "      <td>-1.073843</td>\n",
       "      <td>0.310367</td>\n",
       "      <td>-0.806850</td>\n",
       "      <td>-0.510810</td>\n",
       "    </tr>\n",
       "  </tbody>\n",
       "</table>\n",
       "<p>5 rows × 41 columns</p>\n",
       "</div>"
      ],
      "text/plain": [
       "      SeniorCitizen  Dependents  PhoneService  OnlineSecurity  OnlineBackup  \\\n",
       "1695              0           1             1               0             1   \n",
       "1095              0           0             1               0             0   \n",
       "3889              0           0             1               0             0   \n",
       "3667              1           1             1               0             0   \n",
       "2902              1           0             1               1             0   \n",
       "\n",
       "      DeviceProtection  TechSupport  StreamingTV  StreamingMovies  \\\n",
       "1695                 0            1            1                0   \n",
       "1095                 0            0            1                0   \n",
       "3889                 0            0            0                0   \n",
       "3667                 1            0            1                1   \n",
       "2902                 0            0            0                0   \n",
       "\n",
       "      PaperlessBilling  ...  PaymentMethod_Bank transfer (automatic)  \\\n",
       "1695                 1  ...                                        0   \n",
       "1095                 1  ...                                        0   \n",
       "3889                 0  ...                                        0   \n",
       "3667                 1  ...                                        0   \n",
       "2902                 1  ...                                        0   \n",
       "\n",
       "      PaymentMethod_Credit card (automatic)  PaymentMethod_Mailed check  \\\n",
       "1695                                      0                           0   \n",
       "1095                                      0                           0   \n",
       "3889                                      1                           0   \n",
       "3667                                      0                           0   \n",
       "2902                                      0                           0   \n",
       "\n",
       "      InternetService_DSL  InternetService_Fiber optic  InternetService_No  \\\n",
       "1695                    1                            0                   0   \n",
       "1095                    0                            1                   0   \n",
       "3889                    0                            0                   1   \n",
       "3667                    0                            1                   0   \n",
       "2902                    0                            1                   0   \n",
       "\n",
       "        tenure  MonthlyCharges  TotalCharges  TotalCharges_Log  \n",
       "1695  0.880735        0.197365      0.657480          0.821728  \n",
       "1095 -1.277445        0.524739     -0.970243         -1.591047  \n",
       "3889 -0.788800       -1.510962     -0.891227         -0.857061  \n",
       "3667 -0.340876        1.056514     -0.007184          0.501571  \n",
       "2902 -1.073843        0.310367     -0.806850         -0.510810  \n",
       "\n",
       "[5 rows x 41 columns]"
      ]
     },
     "execution_count": 55,
     "metadata": {},
     "output_type": "execute_result"
    }
   ],
   "source": [
    "X_train = X_train.drop(columns_drop, axis=1)\n",
    "X_test = X_test.drop(columns_drop, axis=1)\n",
    "X_train.head()"
   ]
  },
  {
   "cell_type": "code",
   "execution_count": 59,
   "metadata": {},
   "outputs": [],
   "source": [
    "# Logistic model\n",
    "lr_mod = LogisticRegression(solver = 'liblinear')\n",
    "param = {'C': [0.5, 0.8, 1, 1.5]}\n",
    "gs_lr = GridSearchCV(lr_mod, param, cv=3)\n",
    "gs_lr_fit = gs_lr.fit(X_train, y_train)\n",
    "lr_top2 = pd.DataFrame(gs_lr_fit.cv_results_).sort_values(by='mean_test_score', ascending=False)[0:2]"
   ]
  },
  {
   "cell_type": "code",
   "execution_count": 60,
   "metadata": {},
   "outputs": [
    {
     "data": {
      "text/html": [
       "<div>\n",
       "<style scoped>\n",
       "    .dataframe tbody tr th:only-of-type {\n",
       "        vertical-align: middle;\n",
       "    }\n",
       "\n",
       "    .dataframe tbody tr th {\n",
       "        vertical-align: top;\n",
       "    }\n",
       "\n",
       "    .dataframe thead th {\n",
       "        text-align: right;\n",
       "    }\n",
       "</style>\n",
       "<table border=\"1\" class=\"dataframe\">\n",
       "  <thead>\n",
       "    <tr style=\"text-align: right;\">\n",
       "      <th></th>\n",
       "      <th>mean_fit_time</th>\n",
       "      <th>std_fit_time</th>\n",
       "      <th>mean_score_time</th>\n",
       "      <th>std_score_time</th>\n",
       "      <th>param_C</th>\n",
       "      <th>params</th>\n",
       "      <th>split0_test_score</th>\n",
       "      <th>split1_test_score</th>\n",
       "      <th>split2_test_score</th>\n",
       "      <th>mean_test_score</th>\n",
       "      <th>std_test_score</th>\n",
       "      <th>rank_test_score</th>\n",
       "    </tr>\n",
       "  </thead>\n",
       "  <tbody>\n",
       "    <tr>\n",
       "      <td>2</td>\n",
       "      <td>0.026969</td>\n",
       "      <td>0.000981</td>\n",
       "      <td>0.001301</td>\n",
       "      <td>0.000055</td>\n",
       "      <td>1</td>\n",
       "      <td>{'C': 1}</td>\n",
       "      <td>0.815693</td>\n",
       "      <td>0.797445</td>\n",
       "      <td>0.799635</td>\n",
       "      <td>0.804260</td>\n",
       "      <td>0.008137</td>\n",
       "      <td>1</td>\n",
       "    </tr>\n",
       "    <tr>\n",
       "      <td>3</td>\n",
       "      <td>0.029304</td>\n",
       "      <td>0.003388</td>\n",
       "      <td>0.001303</td>\n",
       "      <td>0.000039</td>\n",
       "      <td>1.5</td>\n",
       "      <td>{'C': 1.5}</td>\n",
       "      <td>0.814477</td>\n",
       "      <td>0.797445</td>\n",
       "      <td>0.800244</td>\n",
       "      <td>0.804057</td>\n",
       "      <td>0.007458</td>\n",
       "      <td>2</td>\n",
       "    </tr>\n",
       "  </tbody>\n",
       "</table>\n",
       "</div>"
      ],
      "text/plain": [
       "   mean_fit_time  std_fit_time  mean_score_time  std_score_time param_C  \\\n",
       "2       0.026969      0.000981         0.001301        0.000055       1   \n",
       "3       0.029304      0.003388         0.001303        0.000039     1.5   \n",
       "\n",
       "       params  split0_test_score  split1_test_score  split2_test_score  \\\n",
       "2    {'C': 1}           0.815693           0.797445           0.799635   \n",
       "3  {'C': 1.5}           0.814477           0.797445           0.800244   \n",
       "\n",
       "   mean_test_score  std_test_score  rank_test_score  \n",
       "2         0.804260        0.008137                1  \n",
       "3         0.804057        0.007458                2  "
      ]
     },
     "execution_count": 60,
     "metadata": {},
     "output_type": "execute_result"
    }
   ],
   "source": [
    "lr_top2"
   ]
  },
  {
   "cell_type": "code",
   "execution_count": 62,
   "metadata": {},
   "outputs": [
    {
     "name": "stdout",
     "output_type": "stream",
     "text": [
      "Logistic Regression\n",
      "accuracy:0.805/precision:0.685/recall:0.526/fscore:0.595\n"
     ]
    }
   ],
   "source": [
    "lr_mod = LogisticRegression(solver = 'liblinear', C=1)\n",
    "lr_mod.fit(X_train, y_train)\n",
    "predicted_y_lr = lr_mod.predict(X_test)\n",
    "calc_score(y_test, predicted_y_lr, 'Logistic Regression')"
   ]
  },
  {
   "cell_type": "code",
   "execution_count": 63,
   "metadata": {},
   "outputs": [],
   "source": [
    "# random forest\n",
    "from sklearn.ensemble import RandomForestClassifier, GradientBoostingClassifier"
   ]
  },
  {
   "cell_type": "code",
   "execution_count": 64,
   "metadata": {},
   "outputs": [],
   "source": [
    "rf_mod = RandomForestClassifier(random_state=42)\n",
    "param = {'n_estimators':[200,500],\n",
    "        'max_depth': [20, 50, None]}"
   ]
  },
  {
   "cell_type": "code",
   "execution_count": 65,
   "metadata": {},
   "outputs": [],
   "source": [
    "gs_rf = GridSearchCV(rf_mod, param, cv=3)\n",
    "gs_rf_fit = gs_rf.fit(X_train, y_train)\n",
    "rf_top2 = pd.DataFrame(gs_rf_fit.cv_results_).sort_values(by='mean_test_score', ascending=False)[0:2]"
   ]
  },
  {
   "cell_type": "code",
   "execution_count": 66,
   "metadata": {},
   "outputs": [
    {
     "data": {
      "text/html": [
       "<div>\n",
       "<style scoped>\n",
       "    .dataframe tbody tr th:only-of-type {\n",
       "        vertical-align: middle;\n",
       "    }\n",
       "\n",
       "    .dataframe tbody tr th {\n",
       "        vertical-align: top;\n",
       "    }\n",
       "\n",
       "    .dataframe thead th {\n",
       "        text-align: right;\n",
       "    }\n",
       "</style>\n",
       "<table border=\"1\" class=\"dataframe\">\n",
       "  <thead>\n",
       "    <tr style=\"text-align: right;\">\n",
       "      <th></th>\n",
       "      <th>mean_fit_time</th>\n",
       "      <th>std_fit_time</th>\n",
       "      <th>mean_score_time</th>\n",
       "      <th>std_score_time</th>\n",
       "      <th>param_max_depth</th>\n",
       "      <th>param_n_estimators</th>\n",
       "      <th>params</th>\n",
       "      <th>split0_test_score</th>\n",
       "      <th>split1_test_score</th>\n",
       "      <th>split2_test_score</th>\n",
       "      <th>mean_test_score</th>\n",
       "      <th>std_test_score</th>\n",
       "      <th>rank_test_score</th>\n",
       "    </tr>\n",
       "  </thead>\n",
       "  <tbody>\n",
       "    <tr>\n",
       "      <td>2</td>\n",
       "      <td>1.226922</td>\n",
       "      <td>0.030540</td>\n",
       "      <td>0.050310</td>\n",
       "      <td>0.002953</td>\n",
       "      <td>50</td>\n",
       "      <td>200</td>\n",
       "      <td>{'max_depth': 50, 'n_estimators': 200}</td>\n",
       "      <td>0.789538</td>\n",
       "      <td>0.786496</td>\n",
       "      <td>0.788063</td>\n",
       "      <td>0.788032</td>\n",
       "      <td>0.001242</td>\n",
       "      <td>1</td>\n",
       "    </tr>\n",
       "    <tr>\n",
       "      <td>4</td>\n",
       "      <td>1.196639</td>\n",
       "      <td>0.030421</td>\n",
       "      <td>0.047897</td>\n",
       "      <td>0.001223</td>\n",
       "      <td>None</td>\n",
       "      <td>200</td>\n",
       "      <td>{'max_depth': None, 'n_estimators': 200}</td>\n",
       "      <td>0.789538</td>\n",
       "      <td>0.786496</td>\n",
       "      <td>0.788063</td>\n",
       "      <td>0.788032</td>\n",
       "      <td>0.001242</td>\n",
       "      <td>1</td>\n",
       "    </tr>\n",
       "  </tbody>\n",
       "</table>\n",
       "</div>"
      ],
      "text/plain": [
       "   mean_fit_time  std_fit_time  mean_score_time  std_score_time  \\\n",
       "2       1.226922      0.030540         0.050310        0.002953   \n",
       "4       1.196639      0.030421         0.047897        0.001223   \n",
       "\n",
       "  param_max_depth param_n_estimators  \\\n",
       "2              50                200   \n",
       "4            None                200   \n",
       "\n",
       "                                     params  split0_test_score  \\\n",
       "2    {'max_depth': 50, 'n_estimators': 200}           0.789538   \n",
       "4  {'max_depth': None, 'n_estimators': 200}           0.789538   \n",
       "\n",
       "   split1_test_score  split2_test_score  mean_test_score  std_test_score  \\\n",
       "2           0.786496           0.788063         0.788032        0.001242   \n",
       "4           0.786496           0.788063         0.788032        0.001242   \n",
       "\n",
       "   rank_test_score  \n",
       "2                1  \n",
       "4                1  "
      ]
     },
     "execution_count": 66,
     "metadata": {},
     "output_type": "execute_result"
    }
   ],
   "source": [
    "rf_top2"
   ]
  },
  {
   "cell_type": "code",
   "execution_count": 67,
   "metadata": {},
   "outputs": [
    {
     "name": "stdout",
     "output_type": "stream",
     "text": [
      "Random Forest\n",
      "accuracy:0.784/precision:0.632/recall:0.491/fscore:0.553\n"
     ]
    }
   ],
   "source": [
    "rf_mod = RandomForestClassifier(n_estimators = 200, max_depth=20, random_state=42)\n",
    "rf_mod.fit(X_train, y_train)\n",
    "predicted_y_rf = rf_mod.predict(X_test)\n",
    "calc_score(y_test, predicted_y_rf, 'Random Forest')"
   ]
  },
  {
   "cell_type": "code",
   "execution_count": 68,
   "metadata": {},
   "outputs": [],
   "source": [
    "# XGBoost\n",
    "gb = GradientBoostingClassifier(random_state=42)\n",
    "param = {'n_estimators':[200, 300],\n",
    "        'learning_rate': [0.1, 0.3]}\n",
    "gs_gb = GridSearchCV(gb, param, cv=5)\n",
    "gs_fit_gb = gs_gb.fit(X_train, y_train)\n",
    "gb_top5 = pd.DataFrame(gs_fit_gb.cv_results_).sort_values(by='mean_test_score', ascending=False)[0:5]"
   ]
  },
  {
   "cell_type": "code",
   "execution_count": 69,
   "metadata": {},
   "outputs": [
    {
     "data": {
      "text/html": [
       "<div>\n",
       "<style scoped>\n",
       "    .dataframe tbody tr th:only-of-type {\n",
       "        vertical-align: middle;\n",
       "    }\n",
       "\n",
       "    .dataframe tbody tr th {\n",
       "        vertical-align: top;\n",
       "    }\n",
       "\n",
       "    .dataframe thead th {\n",
       "        text-align: right;\n",
       "    }\n",
       "</style>\n",
       "<table border=\"1\" class=\"dataframe\">\n",
       "  <thead>\n",
       "    <tr style=\"text-align: right;\">\n",
       "      <th></th>\n",
       "      <th>mean_fit_time</th>\n",
       "      <th>std_fit_time</th>\n",
       "      <th>mean_score_time</th>\n",
       "      <th>std_score_time</th>\n",
       "      <th>param_learning_rate</th>\n",
       "      <th>param_n_estimators</th>\n",
       "      <th>params</th>\n",
       "      <th>split0_test_score</th>\n",
       "      <th>split1_test_score</th>\n",
       "      <th>split2_test_score</th>\n",
       "      <th>split3_test_score</th>\n",
       "      <th>split4_test_score</th>\n",
       "      <th>mean_test_score</th>\n",
       "      <th>std_test_score</th>\n",
       "      <th>rank_test_score</th>\n",
       "    </tr>\n",
       "  </thead>\n",
       "  <tbody>\n",
       "    <tr>\n",
       "      <td>0</td>\n",
       "      <td>1.282127</td>\n",
       "      <td>0.049819</td>\n",
       "      <td>0.004127</td>\n",
       "      <td>0.000983</td>\n",
       "      <td>0.1</td>\n",
       "      <td>200</td>\n",
       "      <td>{'learning_rate': 0.1, 'n_estimators': 200}</td>\n",
       "      <td>0.798174</td>\n",
       "      <td>0.795132</td>\n",
       "      <td>0.793103</td>\n",
       "      <td>0.781947</td>\n",
       "      <td>0.794118</td>\n",
       "      <td>0.792495</td>\n",
       "      <td>0.005540</td>\n",
       "      <td>1</td>\n",
       "    </tr>\n",
       "    <tr>\n",
       "      <td>1</td>\n",
       "      <td>1.912664</td>\n",
       "      <td>0.025582</td>\n",
       "      <td>0.004632</td>\n",
       "      <td>0.000530</td>\n",
       "      <td>0.1</td>\n",
       "      <td>300</td>\n",
       "      <td>{'learning_rate': 0.1, 'n_estimators': 300}</td>\n",
       "      <td>0.796146</td>\n",
       "      <td>0.791075</td>\n",
       "      <td>0.784990</td>\n",
       "      <td>0.773834</td>\n",
       "      <td>0.789047</td>\n",
       "      <td>0.787018</td>\n",
       "      <td>0.007508</td>\n",
       "      <td>2</td>\n",
       "    </tr>\n",
       "    <tr>\n",
       "      <td>2</td>\n",
       "      <td>1.297568</td>\n",
       "      <td>0.034135</td>\n",
       "      <td>0.003432</td>\n",
       "      <td>0.000183</td>\n",
       "      <td>0.3</td>\n",
       "      <td>200</td>\n",
       "      <td>{'learning_rate': 0.3, 'n_estimators': 200}</td>\n",
       "      <td>0.786004</td>\n",
       "      <td>0.777890</td>\n",
       "      <td>0.775862</td>\n",
       "      <td>0.755578</td>\n",
       "      <td>0.772819</td>\n",
       "      <td>0.773631</td>\n",
       "      <td>0.010028</td>\n",
       "      <td>3</td>\n",
       "    </tr>\n",
       "    <tr>\n",
       "      <td>3</td>\n",
       "      <td>1.865829</td>\n",
       "      <td>0.046545</td>\n",
       "      <td>0.004369</td>\n",
       "      <td>0.000218</td>\n",
       "      <td>0.3</td>\n",
       "      <td>300</td>\n",
       "      <td>{'learning_rate': 0.3, 'n_estimators': 300}</td>\n",
       "      <td>0.788032</td>\n",
       "      <td>0.763692</td>\n",
       "      <td>0.769777</td>\n",
       "      <td>0.761663</td>\n",
       "      <td>0.764706</td>\n",
       "      <td>0.769574</td>\n",
       "      <td>0.009609</td>\n",
       "      <td>4</td>\n",
       "    </tr>\n",
       "  </tbody>\n",
       "</table>\n",
       "</div>"
      ],
      "text/plain": [
       "   mean_fit_time  std_fit_time  mean_score_time  std_score_time  \\\n",
       "0       1.282127      0.049819         0.004127        0.000983   \n",
       "1       1.912664      0.025582         0.004632        0.000530   \n",
       "2       1.297568      0.034135         0.003432        0.000183   \n",
       "3       1.865829      0.046545         0.004369        0.000218   \n",
       "\n",
       "  param_learning_rate param_n_estimators  \\\n",
       "0                 0.1                200   \n",
       "1                 0.1                300   \n",
       "2                 0.3                200   \n",
       "3                 0.3                300   \n",
       "\n",
       "                                        params  split0_test_score  \\\n",
       "0  {'learning_rate': 0.1, 'n_estimators': 200}           0.798174   \n",
       "1  {'learning_rate': 0.1, 'n_estimators': 300}           0.796146   \n",
       "2  {'learning_rate': 0.3, 'n_estimators': 200}           0.786004   \n",
       "3  {'learning_rate': 0.3, 'n_estimators': 300}           0.788032   \n",
       "\n",
       "   split1_test_score  split2_test_score  split3_test_score  split4_test_score  \\\n",
       "0           0.795132           0.793103           0.781947           0.794118   \n",
       "1           0.791075           0.784990           0.773834           0.789047   \n",
       "2           0.777890           0.775862           0.755578           0.772819   \n",
       "3           0.763692           0.769777           0.761663           0.764706   \n",
       "\n",
       "   mean_test_score  std_test_score  rank_test_score  \n",
       "0         0.792495        0.005540                1  \n",
       "1         0.787018        0.007508                2  \n",
       "2         0.773631        0.010028                3  \n",
       "3         0.769574        0.009609                4  "
      ]
     },
     "execution_count": 69,
     "metadata": {},
     "output_type": "execute_result"
    }
   ],
   "source": [
    "gb_top5"
   ]
  },
  {
   "cell_type": "code",
   "execution_count": 70,
   "metadata": {},
   "outputs": [
    {
     "name": "stdout",
     "output_type": "stream",
     "text": [
      "XGBoost\n",
      "accuracy:0.799/precision:0.666/recall:0.521/fscore:0.585\n"
     ]
    }
   ],
   "source": [
    "gb_mod = GradientBoostingClassifier(learning_rate = 0.1, n_estimators = 200, random_state=42)\n",
    "gb_mod.fit(X_train, y_train)\n",
    "predicted_y_gb = gb_mod.predict(X_test)\n",
    "calc_score(y_test, predicted_y_gb, 'XGBoost')"
   ]
  },
  {
   "cell_type": "code",
   "execution_count": 72,
   "metadata": {},
   "outputs": [
    {
     "data": {
      "image/png": "[encoded data removed]",
      "text/plain": [
       "<Figure size 1080x360 with 6 Axes>"
      ]
     },
     "metadata": {
      "needs_background": "light"
     },
     "output_type": "display_data"
    }
   ],
   "source": [
    "cf_matrix_gb = confusion_matrix(y_test, predicted_y_gb)\n",
    "cf_matrix_rf = confusion_matrix(y_test, predicted_y_rf)\n",
    "cf_matrix_lr = confusion_matrix(y_test, predicted_y_lr)\n",
    "f,ax=plt.subplots(1,3,figsize=(15,5))\n",
    "sns.heatmap(cf_matrix_lr, annot=True, fmt='d', cmap='Blues',ax=ax[0])\n",
    "ax[0].set_ylim([0,2])\n",
    "ax[0].set_title(\"Confusion matrix of Logistic Regression\")\n",
    "sns.heatmap(cf_matrix_gb, annot=True, fmt='d', cmap='Blues',ax=ax[1])\n",
    "ax[1].set_ylim([0,2])\n",
    "ax[1].set_title(\"Confusion matrix of XGBoost Model\")\n",
    "sns.heatmap(cf_matrix_rf, annot=True, fmt='d', cmap='Blues',ax=ax[2])\n",
    "ax[2].set_ylim([0,2])\n",
    "ax[2].set_title(\"Confusion matrix of Random Forest Model\")\n",
    "plt.ylabel('Actual')\n",
    "plt.xlabel('Predicted')\n",
    "\n",
    "plt.show()"
   ]
  },
  {
   "cell_type": "markdown",
   "metadata": {},
   "source": [
    "From the confusion matrixes, we can see that XGBoost Model predicted more Non-Churn customer correctly, while Logisitic model performs better at correctly predicting churned customer. Can we use a simple voting classifier that predict 0 when XGBoost predicts 0 and use logistic regression's predictions on all other occasions to imporve accuracy?"
   ]
  },
  {
   "cell_type": "code",
   "execution_count": 82,
   "metadata": {},
   "outputs": [
    {
     "name": "stdout",
     "output_type": "stream",
     "text": [
      "1.Voting Classifier\n",
      "accuracy:0.800/precision:0.704/recall:0.455/fscore:0.552\n",
      "2.Logistic Regression\n",
      "accuracy:0.805/precision:0.685/recall:0.526/fscore:0.595\n",
      "3.XGBoost\n",
      "accuracy:0.799/precision:0.666/recall:0.521/fscore:0.585\n"
     ]
    }
   ],
   "source": [
    "voting_predicted_y = np.int64(np.logical_and(predicted_y_gb,predicted_y_lr))\n",
    "calc_score(y_test, voting_predicted_y, '1.Voting Classifier')\n",
    "calc_score(y_test, predicted_y_lr, '2.Logistic Regression')\n",
    "calc_score(y_test, predicted_y_gb, '3.XGBoost')"
   ]
  },
  {
   "cell_type": "code",
   "execution_count": 80,
   "metadata": {},
   "outputs": [
    {
     "data": {
      "image/png": "[encoded data removed]",
      "text/plain": [
       "<Figure size 720x360 with 4 Axes>"
      ]
     },
     "metadata": {
      "needs_background": "light"
     },
     "output_type": "display_data"
    }
   ],
   "source": [
    "f,ax=plt.subplots(1,2,figsize=(10,5))\n",
    "sns.heatmap(cf_matrix_lr, annot=True, fmt='d', cmap='Blues',ax=ax[0])\n",
    "ax[0].set_ylim([0,2])\n",
    "ax[0].set_title(\"Confusion matrix of Logistic Model\")\n",
    "cf_matrix_vt = confusion_matrix(y_test, voting_predicted_y)\n",
    "sns.heatmap(cf_matrix_vt, annot=True, fmt='d', cmap='Blues',ax=ax[1])\n",
    "ax[1].set_ylim([0,2])\n",
    "ax[1].set_title(\"Confusion matrix of Voting Classifier\")\n",
    "plt.ylabel('Actual')\n",
    "plt.xlabel('Predicted')\n",
    "plt.show()"
   ]
  },
  {
   "cell_type": "markdown",
   "metadata": {},
   "source": [
    "# Conclusion and Future Work"
   ]
  },
  {
   "cell_type": "markdown",
   "metadata": {},
   "source": [
    "In this Notebook, we tried different models like logistic model, random forest, XGBoost, and different methods for feature engineering, such as variable interations, oversampling, feature selection, parameter tuning. The final winner is logistic regression model with an accuracy of 0.805. In order to get a better prediction on customer retention, more data about customers and their interactions with the company is needed, such as customers location, previous contact with the company, if in a promition campaign or not...etc. In addition, for new customers and customers we predict to churn, the company should send nurture emails to keep them with the company. It's ten time harder (even more) to gain new customers than keeping the old ones. Therefore, the company should on the one hand keep customers with a high propensity to churn stay and provide a loyalty program for customers who stay longer."
   ]
  },
  {
   "cell_type": "code",
   "execution_count": null,
   "metadata": {},
   "outputs": [],
   "source": []
  }
 ],
 "metadata": {
  "kernelspec": {
   "display_name": "Python 3",
   "language": "python",
   "name": "python3"
  },
  "language_info": {
   "codemirror_mode": {
    "name": "ipython",
    "version": 3
   },
   "file_extension": ".py",
   "mimetype": "text/x-python",
   "name": "python",
   "nbconvert_exporter": "python",
   "pygments_lexer": "ipython3",
   "version": "3.7.4"
  }
 },
 "nbformat": 4,
 "nbformat_minor": 2
}
